{
 "cells": [
  {
   "cell_type": "markdown",
   "id": "66339ed4",
   "metadata": {
    "papermill": {
     "duration": 0.007752,
     "end_time": "2023-10-29T03:15:55.862459",
     "exception": false,
     "start_time": "2023-10-29T03:15:55.854707",
     "status": "completed"
    },
    "tags": []
   },
   "source": [
    "**This notebook is an exercise in the [Data Visualization](https://www.kaggle.com/learn/data-visualization) course.  You can reference the tutorial at [this link](https://www.kaggle.com/alexisbcook/scatter-plots).**\n",
    "\n",
    "---\n"
   ]
  },
  {
   "cell_type": "markdown",
   "id": "37fedc6e",
   "metadata": {
    "papermill": {
     "duration": 0.006845,
     "end_time": "2023-10-29T03:15:55.876453",
     "exception": false,
     "start_time": "2023-10-29T03:15:55.869608",
     "status": "completed"
    },
    "tags": []
   },
   "source": [
    "In this exercise, you will use your new knowledge to propose a solution to a real-world scenario.  To succeed, you will need to import data into Python, answer questions using the data, and generate **scatter plots** to understand patterns in the data.\n",
    "\n",
    "## Scenario\n",
    "\n",
    "You work for a major candy producer, and your goal is to write a report that your company can use to guide the design of its next product.  Soon after starting your research, you stumble across this [very interesting dataset](https://fivethirtyeight.com/features/the-ultimate-halloween-candy-power-ranking/) containing results from a fun survey to crowdsource favorite candies.\n",
    "\n",
    "## Setup\n",
    "\n",
    "Run the next cell to import and configure the Python libraries that you need to complete the exercise."
   ]
  },
  {
   "cell_type": "code",
   "execution_count": 1,
   "id": "b0232303",
   "metadata": {
    "execution": {
     "iopub.execute_input": "2023-10-29T03:15:55.893295Z",
     "iopub.status.busy": "2023-10-29T03:15:55.892967Z",
     "iopub.status.idle": "2023-10-29T03:15:57.533517Z",
     "shell.execute_reply": "2023-10-29T03:15:57.532218Z"
    },
    "papermill": {
     "duration": 1.651144,
     "end_time": "2023-10-29T03:15:57.535578",
     "exception": false,
     "start_time": "2023-10-29T03:15:55.884434",
     "status": "completed"
    },
    "tags": []
   },
   "outputs": [
    {
     "name": "stdout",
     "output_type": "stream",
     "text": [
      "Setup Complete\n"
     ]
    }
   ],
   "source": [
    "import pandas as pd\n",
    "pd.plotting.register_matplotlib_converters()\n",
    "import matplotlib.pyplot as plt\n",
    "%matplotlib inline\n",
    "import seaborn as sns\n",
    "print(\"Setup Complete\")"
   ]
  },
  {
   "cell_type": "markdown",
   "id": "925655ee",
   "metadata": {
    "papermill": {
     "duration": 0.007187,
     "end_time": "2023-10-29T03:15:57.550440",
     "exception": false,
     "start_time": "2023-10-29T03:15:57.543253",
     "status": "completed"
    },
    "tags": []
   },
   "source": [
    "The questions below will give you feedback on your work. Run the following cell to set up our feedback system."
   ]
  },
  {
   "cell_type": "code",
   "execution_count": 2,
   "id": "573ea964",
   "metadata": {
    "execution": {
     "iopub.execute_input": "2023-10-29T03:15:57.567576Z",
     "iopub.status.busy": "2023-10-29T03:15:57.566270Z",
     "iopub.status.idle": "2023-10-29T03:15:57.633251Z",
     "shell.execute_reply": "2023-10-29T03:15:57.631872Z"
    },
    "papermill": {
     "duration": 0.077845,
     "end_time": "2023-10-29T03:15:57.635558",
     "exception": false,
     "start_time": "2023-10-29T03:15:57.557713",
     "status": "completed"
    },
    "tags": []
   },
   "outputs": [
    {
     "name": "stdout",
     "output_type": "stream",
     "text": [
      "Setup Complete\n"
     ]
    }
   ],
   "source": [
    "# Set up code checking\n",
    "import os\n",
    "if not os.path.exists(\"../input/candy.csv\"):\n",
    "    os.symlink(\"../input/data-for-datavis/candy.csv\", \"../input/candy.csv\") \n",
    "from learntools.core import binder\n",
    "binder.bind(globals())\n",
    "from learntools.data_viz_to_coder.ex4 import *\n",
    "print(\"Setup Complete\")"
   ]
  },
  {
   "cell_type": "markdown",
   "id": "6f533889",
   "metadata": {
    "papermill": {
     "duration": 0.006945,
     "end_time": "2023-10-29T03:15:57.650388",
     "exception": false,
     "start_time": "2023-10-29T03:15:57.643443",
     "status": "completed"
    },
    "tags": []
   },
   "source": [
    "## Step 1: Load the Data\n",
    "\n",
    "Read the candy data file into `candy_data`.  Use the `\"id\"` column to label the rows."
   ]
  },
  {
   "cell_type": "code",
   "execution_count": 3,
   "id": "2372e64b",
   "metadata": {
    "execution": {
     "iopub.execute_input": "2023-10-29T03:15:57.666779Z",
     "iopub.status.busy": "2023-10-29T03:15:57.665972Z",
     "iopub.status.idle": "2023-10-29T03:15:57.682667Z",
     "shell.execute_reply": "2023-10-29T03:15:57.681858Z"
    },
    "papermill": {
     "duration": 0.026511,
     "end_time": "2023-10-29T03:15:57.684147",
     "exception": false,
     "start_time": "2023-10-29T03:15:57.657636",
     "status": "completed"
    },
    "tags": []
   },
   "outputs": [
    {
     "data": {
      "application/javascript": [
       "parent.postMessage({\"jupyterEvent\": \"custom.exercise_interaction\", \"data\": {\"outcomeType\": 1, \"valueTowardsCompletion\": 0.3333333333333333, \"interactionType\": 1, \"questionType\": 1, \"questionId\": \"1_LoadData\", \"learnToolsVersion\": \"0.3.4\", \"failureMessage\": \"\", \"exceptionClass\": \"\", \"trace\": \"\"}}, \"*\")"
      ],
      "text/plain": [
       "<IPython.core.display.Javascript object>"
      ]
     },
     "metadata": {},
     "output_type": "display_data"
    },
    {
     "data": {
      "text/markdown": [
       "<span style=\"color:#33cc33\">Correct</span>"
      ],
      "text/plain": [
       "Correct"
      ]
     },
     "metadata": {},
     "output_type": "display_data"
    }
   ],
   "source": [
    "# Path of the file to read\n",
    "candy_filepath = \"../input/candy.csv\"\n",
    "\n",
    "# Fill in the line below to read the file into a variable candy_data\n",
    "candy_data = pd.read_csv(candy_filepath, index_col = 'id')\n",
    "\n",
    "# Run the line below with no changes to check that you've loaded the data correctly\n",
    "step_1.check()"
   ]
  },
  {
   "cell_type": "code",
   "execution_count": 4,
   "id": "9924431f",
   "metadata": {
    "execution": {
     "iopub.execute_input": "2023-10-29T03:15:57.701830Z",
     "iopub.status.busy": "2023-10-29T03:15:57.700990Z",
     "iopub.status.idle": "2023-10-29T03:15:57.704819Z",
     "shell.execute_reply": "2023-10-29T03:15:57.704176Z"
    },
    "papermill": {
     "duration": 0.014792,
     "end_time": "2023-10-29T03:15:57.706719",
     "exception": false,
     "start_time": "2023-10-29T03:15:57.691927",
     "status": "completed"
    },
    "tags": []
   },
   "outputs": [],
   "source": [
    "# Lines below will give you a hint or solution code\n",
    "# step_1.hint()\n",
    "# step_1.solution()"
   ]
  },
  {
   "cell_type": "markdown",
   "id": "6e21a0ab",
   "metadata": {
    "papermill": {
     "duration": 0.007548,
     "end_time": "2023-10-29T03:15:57.722253",
     "exception": false,
     "start_time": "2023-10-29T03:15:57.714705",
     "status": "completed"
    },
    "tags": []
   },
   "source": [
    "## Step 2: Review the data\n",
    "\n",
    "Use a Python command to print the first five rows of the data."
   ]
  },
  {
   "cell_type": "code",
   "execution_count": 5,
   "id": "7b25b921",
   "metadata": {
    "execution": {
     "iopub.execute_input": "2023-10-29T03:15:57.739503Z",
     "iopub.status.busy": "2023-10-29T03:15:57.739153Z",
     "iopub.status.idle": "2023-10-29T03:15:57.757369Z",
     "shell.execute_reply": "2023-10-29T03:15:57.756377Z"
    },
    "papermill": {
     "duration": 0.028737,
     "end_time": "2023-10-29T03:15:57.759193",
     "exception": false,
     "start_time": "2023-10-29T03:15:57.730456",
     "status": "completed"
    },
    "tags": []
   },
   "outputs": [
    {
     "data": {
      "text/html": [
       "<div>\n",
       "<style scoped>\n",
       "    .dataframe tbody tr th:only-of-type {\n",
       "        vertical-align: middle;\n",
       "    }\n",
       "\n",
       "    .dataframe tbody tr th {\n",
       "        vertical-align: top;\n",
       "    }\n",
       "\n",
       "    .dataframe thead th {\n",
       "        text-align: right;\n",
       "    }\n",
       "</style>\n",
       "<table border=\"1\" class=\"dataframe\">\n",
       "  <thead>\n",
       "    <tr style=\"text-align: right;\">\n",
       "      <th></th>\n",
       "      <th>competitorname</th>\n",
       "      <th>chocolate</th>\n",
       "      <th>fruity</th>\n",
       "      <th>caramel</th>\n",
       "      <th>peanutyalmondy</th>\n",
       "      <th>nougat</th>\n",
       "      <th>crispedricewafer</th>\n",
       "      <th>hard</th>\n",
       "      <th>bar</th>\n",
       "      <th>pluribus</th>\n",
       "      <th>sugarpercent</th>\n",
       "      <th>pricepercent</th>\n",
       "      <th>winpercent</th>\n",
       "    </tr>\n",
       "    <tr>\n",
       "      <th>id</th>\n",
       "      <th></th>\n",
       "      <th></th>\n",
       "      <th></th>\n",
       "      <th></th>\n",
       "      <th></th>\n",
       "      <th></th>\n",
       "      <th></th>\n",
       "      <th></th>\n",
       "      <th></th>\n",
       "      <th></th>\n",
       "      <th></th>\n",
       "      <th></th>\n",
       "      <th></th>\n",
       "    </tr>\n",
       "  </thead>\n",
       "  <tbody>\n",
       "    <tr>\n",
       "      <th>0</th>\n",
       "      <td>100 Grand</td>\n",
       "      <td>Yes</td>\n",
       "      <td>No</td>\n",
       "      <td>Yes</td>\n",
       "      <td>No</td>\n",
       "      <td>No</td>\n",
       "      <td>Yes</td>\n",
       "      <td>No</td>\n",
       "      <td>Yes</td>\n",
       "      <td>No</td>\n",
       "      <td>0.732</td>\n",
       "      <td>0.860</td>\n",
       "      <td>66.971725</td>\n",
       "    </tr>\n",
       "    <tr>\n",
       "      <th>1</th>\n",
       "      <td>3 Musketeers</td>\n",
       "      <td>Yes</td>\n",
       "      <td>No</td>\n",
       "      <td>No</td>\n",
       "      <td>No</td>\n",
       "      <td>Yes</td>\n",
       "      <td>No</td>\n",
       "      <td>No</td>\n",
       "      <td>Yes</td>\n",
       "      <td>No</td>\n",
       "      <td>0.604</td>\n",
       "      <td>0.511</td>\n",
       "      <td>67.602936</td>\n",
       "    </tr>\n",
       "    <tr>\n",
       "      <th>2</th>\n",
       "      <td>Air Heads</td>\n",
       "      <td>No</td>\n",
       "      <td>Yes</td>\n",
       "      <td>No</td>\n",
       "      <td>No</td>\n",
       "      <td>No</td>\n",
       "      <td>No</td>\n",
       "      <td>No</td>\n",
       "      <td>No</td>\n",
       "      <td>No</td>\n",
       "      <td>0.906</td>\n",
       "      <td>0.511</td>\n",
       "      <td>52.341465</td>\n",
       "    </tr>\n",
       "    <tr>\n",
       "      <th>3</th>\n",
       "      <td>Almond Joy</td>\n",
       "      <td>Yes</td>\n",
       "      <td>No</td>\n",
       "      <td>No</td>\n",
       "      <td>Yes</td>\n",
       "      <td>No</td>\n",
       "      <td>No</td>\n",
       "      <td>No</td>\n",
       "      <td>Yes</td>\n",
       "      <td>No</td>\n",
       "      <td>0.465</td>\n",
       "      <td>0.767</td>\n",
       "      <td>50.347546</td>\n",
       "    </tr>\n",
       "    <tr>\n",
       "      <th>4</th>\n",
       "      <td>Baby Ruth</td>\n",
       "      <td>Yes</td>\n",
       "      <td>No</td>\n",
       "      <td>Yes</td>\n",
       "      <td>Yes</td>\n",
       "      <td>Yes</td>\n",
       "      <td>No</td>\n",
       "      <td>No</td>\n",
       "      <td>Yes</td>\n",
       "      <td>No</td>\n",
       "      <td>0.604</td>\n",
       "      <td>0.767</td>\n",
       "      <td>56.914547</td>\n",
       "    </tr>\n",
       "  </tbody>\n",
       "</table>\n",
       "</div>"
      ],
      "text/plain": [
       "   competitorname chocolate fruity caramel peanutyalmondy nougat  \\\n",
       "id                                                                 \n",
       "0       100 Grand       Yes     No     Yes             No     No   \n",
       "1    3 Musketeers       Yes     No      No             No    Yes   \n",
       "2       Air Heads        No    Yes      No             No     No   \n",
       "3      Almond Joy       Yes     No      No            Yes     No   \n",
       "4       Baby Ruth       Yes     No     Yes            Yes    Yes   \n",
       "\n",
       "   crispedricewafer hard  bar pluribus  sugarpercent  pricepercent  winpercent  \n",
       "id                                                                              \n",
       "0               Yes   No  Yes       No         0.732         0.860   66.971725  \n",
       "1                No   No  Yes       No         0.604         0.511   67.602936  \n",
       "2                No   No   No       No         0.906         0.511   52.341465  \n",
       "3                No   No  Yes       No         0.465         0.767   50.347546  \n",
       "4                No   No  Yes       No         0.604         0.767   56.914547  "
      ]
     },
     "execution_count": 5,
     "metadata": {},
     "output_type": "execute_result"
    }
   ],
   "source": [
    "# Print the first five rows of the data\n",
    "____ # Your code here\n",
    "candy_data.head()"
   ]
  },
  {
   "cell_type": "markdown",
   "id": "8f553153",
   "metadata": {
    "papermill": {
     "duration": 0.007712,
     "end_time": "2023-10-29T03:15:57.775201",
     "exception": false,
     "start_time": "2023-10-29T03:15:57.767489",
     "status": "completed"
    },
    "tags": []
   },
   "source": [
    "The dataset contains 83 rows, where each corresponds to a different candy bar.  There are 13 columns:\n",
    "- `'competitorname'` contains the name of the candy bar. \n",
    "- the next **9** columns (from `'chocolate'` to `'pluribus'`) describe the candy.  For instance, rows with chocolate candies have `\"Yes\"` in the `'chocolate'` column (and candies without chocolate have `\"No\"` in the same column).\n",
    "- `'sugarpercent'` provides some indication of the amount of sugar, where higher values signify higher sugar content.\n",
    "- `'pricepercent'` shows the price per unit, relative to the other candies in the dataset.\n",
    "- `'winpercent'` is calculated from the survey results; higher values indicate that the candy was more popular with survey respondents.\n",
    "\n",
    "Use the first five rows of the data to answer the questions below."
   ]
  },
  {
   "cell_type": "code",
   "execution_count": 6,
   "id": "0ed36ded",
   "metadata": {
    "execution": {
     "iopub.execute_input": "2023-10-29T03:15:57.793535Z",
     "iopub.status.busy": "2023-10-29T03:15:57.792421Z",
     "iopub.status.idle": "2023-10-29T03:15:57.802630Z",
     "shell.execute_reply": "2023-10-29T03:15:57.800842Z"
    },
    "papermill": {
     "duration": 0.021285,
     "end_time": "2023-10-29T03:15:57.804716",
     "exception": false,
     "start_time": "2023-10-29T03:15:57.783431",
     "status": "completed"
    },
    "tags": []
   },
   "outputs": [
    {
     "data": {
      "application/javascript": [
       "parent.postMessage({\"jupyterEvent\": \"custom.exercise_interaction\", \"data\": {\"outcomeType\": 1, \"valueTowardsCompletion\": 0.3333333333333333, \"interactionType\": 1, \"questionType\": 1, \"questionId\": \"2_ReviewData\", \"learnToolsVersion\": \"0.3.4\", \"failureMessage\": \"\", \"exceptionClass\": \"\", \"trace\": \"\"}}, \"*\")"
      ],
      "text/plain": [
       "<IPython.core.display.Javascript object>"
      ]
     },
     "metadata": {},
     "output_type": "display_data"
    },
    {
     "data": {
      "text/markdown": [
       "<span style=\"color:#33cc33\">Correct</span>"
      ],
      "text/plain": [
       "Correct"
      ]
     },
     "metadata": {},
     "output_type": "display_data"
    }
   ],
   "source": [
    "# Fill in the line below: Which candy was more popular with survey respondents:\n",
    "# '3 Musketeers' or 'Almond Joy'?  (Please enclose your answer in single quotes.)\n",
    "more_popular = '3 Musketeers'\n",
    "\n",
    "# Fill in the line below: Which candy has higher sugar content: 'Air Heads'\n",
    "# or 'Baby Ruth'? (Please enclose your answer in single quotes.)\n",
    "more_sugar = 'Air Heads'\n",
    "# Check your answers\n",
    "step_2.check()"
   ]
  },
  {
   "cell_type": "code",
   "execution_count": 7,
   "id": "f5340ec0",
   "metadata": {
    "execution": {
     "iopub.execute_input": "2023-10-29T03:15:57.823436Z",
     "iopub.status.busy": "2023-10-29T03:15:57.822447Z",
     "iopub.status.idle": "2023-10-29T03:15:57.826361Z",
     "shell.execute_reply": "2023-10-29T03:15:57.825653Z"
    },
    "papermill": {
     "duration": 0.015315,
     "end_time": "2023-10-29T03:15:57.828540",
     "exception": false,
     "start_time": "2023-10-29T03:15:57.813225",
     "status": "completed"
    },
    "tags": []
   },
   "outputs": [],
   "source": [
    "# Lines below will give you a hint or solution code\n",
    "# step_2.hint()\n",
    "# step_2.solution()"
   ]
  },
  {
   "cell_type": "markdown",
   "id": "1693cb7f",
   "metadata": {
    "papermill": {
     "duration": 0.007768,
     "end_time": "2023-10-29T03:15:57.844453",
     "exception": false,
     "start_time": "2023-10-29T03:15:57.836685",
     "status": "completed"
    },
    "tags": []
   },
   "source": [
    "## Step 3: The role of sugar\n",
    "\n",
    "Do people tend to prefer candies with higher sugar content?  \n",
    "\n",
    "#### Part A\n",
    "\n",
    "Create a scatter plot that shows the relationship between `'sugarpercent'` (on the horizontal x-axis) and `'winpercent'` (on the vertical y-axis).  _Don't add a regression line just yet -- you'll do that in the next step!_"
   ]
  },
  {
   "cell_type": "code",
   "execution_count": 8,
   "id": "b6fc3784",
   "metadata": {
    "execution": {
     "iopub.execute_input": "2023-10-29T03:15:57.861820Z",
     "iopub.status.busy": "2023-10-29T03:15:57.861485Z",
     "iopub.status.idle": "2023-10-29T03:15:58.102284Z",
     "shell.execute_reply": "2023-10-29T03:15:58.101398Z"
    },
    "papermill": {
     "duration": 0.251603,
     "end_time": "2023-10-29T03:15:58.104049",
     "exception": false,
     "start_time": "2023-10-29T03:15:57.852446",
     "status": "completed"
    },
    "tags": []
   },
   "outputs": [
    {
     "data": {
      "application/javascript": [
       "parent.postMessage({\"jupyterEvent\": \"custom.exercise_interaction\", \"data\": {\"outcomeType\": 1, \"valueTowardsCompletion\": 0.3333333333333333, \"interactionType\": 1, \"questionType\": 2, \"questionId\": \"3.1_PlotBlueScatter\", \"learnToolsVersion\": \"0.3.4\", \"failureMessage\": \"\", \"exceptionClass\": \"\", \"trace\": \"\"}}, \"*\")"
      ],
      "text/plain": [
       "<IPython.core.display.Javascript object>"
      ]
     },
     "metadata": {},
     "output_type": "display_data"
    },
    {
     "data": {
      "text/markdown": [
       "<span style=\"color:#33cc33\">Correct</span>"
      ],
      "text/plain": [
       "Correct"
      ]
     },
     "metadata": {},
     "output_type": "display_data"
    },
    {
     "data": {
      "image/png": "[encoded data removed]",
      "text/plain": [
       "<Figure size 640x480 with 1 Axes>"
      ]
     },
     "metadata": {},
     "output_type": "display_data"
    }
   ],
   "source": [
    "# Scatter plot showing the relationship between 'sugarpercent' and 'winpercent'\n",
    "____ # Your code here\n",
    "sns.scatterplot(data = candy_data, x = 'sugarpercent', y = 'winpercent')\n",
    "\n",
    "# Check your answer\n",
    "step_3.a.check()"
   ]
  },
  {
   "cell_type": "code",
   "execution_count": 9,
   "id": "4d8fe7ac",
   "metadata": {
    "execution": {
     "iopub.execute_input": "2023-10-29T03:15:58.122667Z",
     "iopub.status.busy": "2023-10-29T03:15:58.122333Z",
     "iopub.status.idle": "2023-10-29T03:15:58.126799Z",
     "shell.execute_reply": "2023-10-29T03:15:58.125725Z"
    },
    "papermill": {
     "duration": 0.015836,
     "end_time": "2023-10-29T03:15:58.128639",
     "exception": false,
     "start_time": "2023-10-29T03:15:58.112803",
     "status": "completed"
    },
    "tags": []
   },
   "outputs": [],
   "source": [
    "# Lines below will give you a hint or solution code\n",
    "#step_3.a.hint()\n",
    "# step_3.a.solution_plot()"
   ]
  },
  {
   "cell_type": "markdown",
   "id": "0591c946",
   "metadata": {
    "papermill": {
     "duration": 0.008532,
     "end_time": "2023-10-29T03:15:58.146540",
     "exception": false,
     "start_time": "2023-10-29T03:15:58.138008",
     "status": "completed"
    },
    "tags": []
   },
   "source": [
    "#### Part B\n",
    "\n",
    "Does the scatter plot show a **strong** correlation between the two variables?  If so, are candies with more sugar relatively more or less popular with the survey respondents?"
   ]
  },
  {
   "cell_type": "code",
   "execution_count": 10,
   "id": "074a83e7",
   "metadata": {
    "execution": {
     "iopub.execute_input": "2023-10-29T03:15:58.165481Z",
     "iopub.status.busy": "2023-10-29T03:15:58.165185Z",
     "iopub.status.idle": "2023-10-29T03:15:58.169720Z",
     "shell.execute_reply": "2023-10-29T03:15:58.168484Z"
    },
    "papermill": {
     "duration": 0.016523,
     "end_time": "2023-10-29T03:15:58.171803",
     "exception": false,
     "start_time": "2023-10-29T03:15:58.155280",
     "status": "completed"
    },
    "tags": []
   },
   "outputs": [],
   "source": [
    "# step_3.b.hint()"
   ]
  },
  {
   "cell_type": "code",
   "execution_count": 11,
   "id": "2153554b",
   "metadata": {
    "execution": {
     "iopub.execute_input": "2023-10-29T03:15:58.192387Z",
     "iopub.status.busy": "2023-10-29T03:15:58.191622Z",
     "iopub.status.idle": "2023-10-29T03:15:58.195505Z",
     "shell.execute_reply": "2023-10-29T03:15:58.194759Z"
    },
    "papermill": {
     "duration": 0.01608,
     "end_time": "2023-10-29T03:15:58.197183",
     "exception": false,
     "start_time": "2023-10-29T03:15:58.181103",
     "status": "completed"
    },
    "tags": []
   },
   "outputs": [],
   "source": [
    "# Check your answer (Run this code cell to receive credit!)\n",
    "# step_3.b.solution()"
   ]
  },
  {
   "cell_type": "markdown",
   "id": "dc03aa28",
   "metadata": {
    "papermill": {
     "duration": 0.00795,
     "end_time": "2023-10-29T03:15:58.213587",
     "exception": false,
     "start_time": "2023-10-29T03:15:58.205637",
     "status": "completed"
    },
    "tags": []
   },
   "source": [
    "## Step 4: Take a closer look\n",
    "\n",
    "#### Part A\n",
    "\n",
    "Create the same scatter plot you created in **Step 3**, but now with a regression line!"
   ]
  },
  {
   "cell_type": "code",
   "execution_count": 12,
   "id": "7b90c0f2",
   "metadata": {
    "execution": {
     "iopub.execute_input": "2023-10-29T03:15:58.231990Z",
     "iopub.status.busy": "2023-10-29T03:15:58.231528Z",
     "iopub.status.idle": "2023-10-29T03:15:58.517236Z",
     "shell.execute_reply": "2023-10-29T03:15:58.516003Z"
    },
    "papermill": {
     "duration": 0.297256,
     "end_time": "2023-10-29T03:15:58.519049",
     "exception": false,
     "start_time": "2023-10-29T03:15:58.221793",
     "status": "completed"
    },
    "tags": []
   },
   "outputs": [
    {
     "data": {
      "application/javascript": [
       "parent.postMessage({\"jupyterEvent\": \"custom.exercise_interaction\", \"data\": {\"outcomeType\": 1, \"valueTowardsCompletion\": 0.3333333333333333, \"interactionType\": 1, \"questionType\": 2, \"questionId\": \"4.1_PlotBlueReg\", \"learnToolsVersion\": \"0.3.4\", \"failureMessage\": \"\", \"exceptionClass\": \"\", \"trace\": \"\"}}, \"*\")"
      ],
      "text/plain": [
       "<IPython.core.display.Javascript object>"
      ]
     },
     "metadata": {},
     "output_type": "display_data"
    },
    {
     "data": {
      "text/markdown": [
       "<span style=\"color:#33cc33\">Correct</span>"
      ],
      "text/plain": [
       "Correct"
      ]
     },
     "metadata": {},
     "output_type": "display_data"
    },
    {
     "data": {
      "image/png": "[encoded data removed]",
      "text/plain": [
       "<Figure size 640x480 with 1 Axes>"
      ]
     },
     "metadata": {},
     "output_type": "display_data"
    }
   ],
   "source": [
    "# Scatter plot w/ regression line showing the relationship between 'sugarpercent' and 'winpercent'\n",
    "____ # Your code here\n",
    "sns.regplot( x = candy_data['sugarpercent'], y = candy_data['winpercent'])\n",
    "\n",
    "# Check your answer\n",
    "step_4.a.check()"
   ]
  },
  {
   "cell_type": "code",
   "execution_count": 13,
   "id": "d1daa7d3",
   "metadata": {
    "execution": {
     "iopub.execute_input": "2023-10-29T03:15:58.539324Z",
     "iopub.status.busy": "2023-10-29T03:15:58.538579Z",
     "iopub.status.idle": "2023-10-29T03:15:58.543586Z",
     "shell.execute_reply": "2023-10-29T03:15:58.542624Z"
    },
    "papermill": {
     "duration": 0.017209,
     "end_time": "2023-10-29T03:15:58.545675",
     "exception": false,
     "start_time": "2023-10-29T03:15:58.528466",
     "status": "completed"
    },
    "tags": []
   },
   "outputs": [],
   "source": [
    "# Lines below will give you a hint or solution code\n",
    "# step_4.a.hint()\n",
    "#step_4.a.solution_plot()"
   ]
  },
  {
   "cell_type": "markdown",
   "id": "ccb4ac3c",
   "metadata": {
    "papermill": {
     "duration": 0.008755,
     "end_time": "2023-10-29T03:15:58.563744",
     "exception": false,
     "start_time": "2023-10-29T03:15:58.554989",
     "status": "completed"
    },
    "tags": []
   },
   "source": [
    "#### Part B\n",
    "\n",
    "According to the plot above, is there a **slight** correlation between `'winpercent'` and `'sugarpercent'`?  What does this tell you about the candy that people tend to prefer?"
   ]
  },
  {
   "cell_type": "code",
   "execution_count": 14,
   "id": "97ed3c2d",
   "metadata": {
    "execution": {
     "iopub.execute_input": "2023-10-29T03:15:58.583784Z",
     "iopub.status.busy": "2023-10-29T03:15:58.583324Z",
     "iopub.status.idle": "2023-10-29T03:15:58.590955Z",
     "shell.execute_reply": "2023-10-29T03:15:58.589807Z"
    },
    "papermill": {
     "duration": 0.02104,
     "end_time": "2023-10-29T03:15:58.594092",
     "exception": false,
     "start_time": "2023-10-29T03:15:58.573052",
     "status": "completed"
    },
    "tags": []
   },
   "outputs": [
    {
     "data": {
      "application/javascript": [
       "parent.postMessage({\"jupyterEvent\": \"custom.exercise_interaction\", \"data\": {\"interactionType\": 2, \"questionType\": 4, \"questionId\": \"4.2_ThinkBlueReg\", \"learnToolsVersion\": \"0.3.4\", \"valueTowardsCompletion\": 0.0, \"failureMessage\": \"\", \"exceptionClass\": \"\", \"trace\": \"\", \"outcomeType\": 4}}, \"*\")"
      ],
      "text/plain": [
       "<IPython.core.display.Javascript object>"
      ]
     },
     "metadata": {},
     "output_type": "display_data"
    },
    {
     "data": {
      "text/markdown": [
       "<span style=\"color:#3366cc\">Hint:</span> Does the regression line have a positive or negative slope?"
      ],
      "text/plain": [
       "Hint: Does the regression line have a positive or negative slope?"
      ]
     },
     "metadata": {},
     "output_type": "display_data"
    }
   ],
   "source": [
    "step_4.b.hint()"
   ]
  },
  {
   "cell_type": "code",
   "execution_count": 15,
   "id": "86a39e50",
   "metadata": {
    "execution": {
     "iopub.execute_input": "2023-10-29T03:15:58.663918Z",
     "iopub.status.busy": "2023-10-29T03:15:58.663619Z",
     "iopub.status.idle": "2023-10-29T03:15:58.670729Z",
     "shell.execute_reply": "2023-10-29T03:15:58.669941Z"
    },
    "papermill": {
     "duration": 0.020107,
     "end_time": "2023-10-29T03:15:58.672989",
     "exception": false,
     "start_time": "2023-10-29T03:15:58.652882",
     "status": "completed"
    },
    "tags": []
   },
   "outputs": [
    {
     "data": {
      "application/javascript": [
       "parent.postMessage({\"jupyterEvent\": \"custom.exercise_interaction\", \"data\": {\"interactionType\": 3, \"questionType\": 4, \"questionId\": \"4.2_ThinkBlueReg\", \"learnToolsVersion\": \"0.3.4\", \"valueTowardsCompletion\": 0.0, \"failureMessage\": \"\", \"exceptionClass\": \"\", \"trace\": \"\", \"outcomeType\": 4}}, \"*\")"
      ],
      "text/plain": [
       "<IPython.core.display.Javascript object>"
      ]
     },
     "metadata": {},
     "output_type": "display_data"
    },
    {
     "data": {
      "text/markdown": [
       "<span style=\"color:#33cc99\">Solution:</span> Since the regression line has a slightly positive slope, this tells us that there is a slightly positive correlation between `'winpercent'` and `'sugarpercent'`. Thus, people have a slight preference for candies containing relatively more sugar."
      ],
      "text/plain": [
       "Solution: Since the regression line has a slightly positive slope, this tells us that there is a slightly positive correlation between `'winpercent'` and `'sugarpercent'`. Thus, people have a slight preference for candies containing relatively more sugar."
      ]
     },
     "metadata": {},
     "output_type": "display_data"
    }
   ],
   "source": [
    "# Check your answer (Run this code cell to receive credit!)\n",
    "step_4.b.solution()"
   ]
  },
  {
   "cell_type": "markdown",
   "id": "7808a8f3",
   "metadata": {
    "papermill": {
     "duration": 0.009564,
     "end_time": "2023-10-29T03:15:58.692885",
     "exception": false,
     "start_time": "2023-10-29T03:15:58.683321",
     "status": "completed"
    },
    "tags": []
   },
   "source": [
    "## Step 5: Chocolate!\n",
    "\n",
    "In the code cell below, create a scatter plot to show the relationship between `'pricepercent'` (on the horizontal x-axis) and `'winpercent'` (on the vertical y-axis). Use the `'chocolate'` column to color-code the points.  _Don't add any regression lines just yet -- you'll do that in the next step!_"
   ]
  },
  {
   "cell_type": "code",
   "execution_count": 16,
   "id": "96b7e2e0",
   "metadata": {
    "execution": {
     "iopub.execute_input": "2023-10-29T03:15:58.714249Z",
     "iopub.status.busy": "2023-10-29T03:15:58.713582Z",
     "iopub.status.idle": "2023-10-29T03:15:58.966417Z",
     "shell.execute_reply": "2023-10-29T03:15:58.965510Z"
    },
    "papermill": {
     "duration": 0.265945,
     "end_time": "2023-10-29T03:15:58.968646",
     "exception": false,
     "start_time": "2023-10-29T03:15:58.702701",
     "status": "completed"
    },
    "tags": []
   },
   "outputs": [
    {
     "data": {
      "application/javascript": [
       "parent.postMessage({\"jupyterEvent\": \"custom.exercise_interaction\", \"data\": {\"outcomeType\": 1, \"valueTowardsCompletion\": 0.3333333333333333, \"interactionType\": 1, \"questionType\": 2, \"questionId\": \"5_ColorScatter\", \"learnToolsVersion\": \"0.3.4\", \"failureMessage\": \"\", \"exceptionClass\": \"\", \"trace\": \"\"}}, \"*\")"
      ],
      "text/plain": [
       "<IPython.core.display.Javascript object>"
      ]
     },
     "metadata": {},
     "output_type": "display_data"
    },
    {
     "data": {
      "text/markdown": [
       "<span style=\"color:#33cc33\">Correct</span>"
      ],
      "text/plain": [
       "Correct"
      ]
     },
     "metadata": {},
     "output_type": "display_data"
    },
    {
     "data": {
      "image/png": "[encoded data removed]",
      "text/plain": [
       "<Figure size 640x480 with 1 Axes>"
      ]
     },
     "metadata": {},
     "output_type": "display_data"
    }
   ],
   "source": [
    "# Scatter plot showing the relationship between 'pricepercent', 'winpercent', and 'chocolate'\n",
    "____ # Your code here\n",
    "sns.scatterplot(data = candy_data, x = 'pricepercent', y = 'winpercent', hue = 'chocolate')\n",
    "\n",
    "# Check your answer\n",
    "step_5.check()"
   ]
  },
  {
   "cell_type": "code",
   "execution_count": 17,
   "id": "2687b729",
   "metadata": {
    "execution": {
     "iopub.execute_input": "2023-10-29T03:15:58.990268Z",
     "iopub.status.busy": "2023-10-29T03:15:58.989919Z",
     "iopub.status.idle": "2023-10-29T03:15:58.993964Z",
     "shell.execute_reply": "2023-10-29T03:15:58.993016Z"
    },
    "papermill": {
     "duration": 0.016817,
     "end_time": "2023-10-29T03:15:58.995823",
     "exception": false,
     "start_time": "2023-10-29T03:15:58.979006",
     "status": "completed"
    },
    "tags": []
   },
   "outputs": [],
   "source": [
    "# Lines below will give you a hint or solution code\n",
    "# step_5.hint()\n",
    "# step_5.solution_plot()"
   ]
  },
  {
   "cell_type": "markdown",
   "id": "a7a6e9f9",
   "metadata": {
    "papermill": {
     "duration": 0.009594,
     "end_time": "2023-10-29T03:15:59.015962",
     "exception": false,
     "start_time": "2023-10-29T03:15:59.006368",
     "status": "completed"
    },
    "tags": []
   },
   "source": [
    "Can you see any interesting patterns in the scatter plot?  We'll investigate this plot further  by adding regression lines in the next step!\n",
    "\n",
    "## Step 6: Investigate chocolate\n",
    "\n",
    "#### Part A\n",
    "\n",
    "Create the same scatter plot you created in **Step 5**, but now with two regression lines, corresponding to (1) chocolate candies and (2) candies without chocolate."
   ]
  },
  {
   "cell_type": "code",
   "execution_count": 18,
   "id": "d84d4968",
   "metadata": {
    "execution": {
     "iopub.execute_input": "2023-10-29T03:15:59.037468Z",
     "iopub.status.busy": "2023-10-29T03:15:59.036620Z",
     "iopub.status.idle": "2023-10-29T03:15:59.601311Z",
     "shell.execute_reply": "2023-10-29T03:15:59.599675Z"
    },
    "papermill": {
     "duration": 0.577595,
     "end_time": "2023-10-29T03:15:59.603409",
     "exception": false,
     "start_time": "2023-10-29T03:15:59.025814",
     "status": "completed"
    },
    "tags": []
   },
   "outputs": [
    {
     "data": {
      "application/javascript": [
       "parent.postMessage({\"jupyterEvent\": \"custom.exercise_interaction\", \"data\": {\"outcomeType\": 1, \"valueTowardsCompletion\": 0.3333333333333333, \"interactionType\": 1, \"questionType\": 2, \"questionId\": \"6.1_PlotColorReg\", \"learnToolsVersion\": \"0.3.4\", \"failureMessage\": \"\", \"exceptionClass\": \"\", \"trace\": \"\"}}, \"*\")"
      ],
      "text/plain": [
       "<IPython.core.display.Javascript object>"
      ]
     },
     "metadata": {},
     "output_type": "display_data"
    },
    {
     "data": {
      "text/markdown": [
       "<span style=\"color:#33cc33\">Correct</span>"
      ],
      "text/plain": [
       "Correct"
      ]
     },
     "metadata": {},
     "output_type": "display_data"
    },
    {
     "data": {
      "image/png": "[encoded data removed]",
      "text/plain": [
       "<Figure size 578.611x500 with 1 Axes>"
      ]
     },
     "metadata": {},
     "output_type": "display_data"
    }
   ],
   "source": [
    "# Color-coded scatter plot w/ regression lines\n",
    "____ # Your code here\n",
    "sns.lmplot(data = candy_data, x = 'pricepercent', y = 'winpercent', hue = 'chocolate')\n",
    "\n",
    "# Check your answer\n",
    "step_6.a.check()"
   ]
  },
  {
   "cell_type": "code",
   "execution_count": 19,
   "id": "77b9fe3b",
   "metadata": {
    "execution": {
     "iopub.execute_input": "2023-10-29T03:15:59.626626Z",
     "iopub.status.busy": "2023-10-29T03:15:59.626271Z",
     "iopub.status.idle": "2023-10-29T03:15:59.631563Z",
     "shell.execute_reply": "2023-10-29T03:15:59.630394Z"
    },
    "papermill": {
     "duration": 0.019377,
     "end_time": "2023-10-29T03:15:59.633878",
     "exception": false,
     "start_time": "2023-10-29T03:15:59.614501",
     "status": "completed"
    },
    "tags": []
   },
   "outputs": [],
   "source": [
    "# Lines below will give you a hint or solution code\n",
    "# step_6.a.hint()\n",
    "# step_6.a.solution_plot()"
   ]
  },
  {
   "cell_type": "markdown",
   "id": "2bdc5ca9",
   "metadata": {
    "papermill": {
     "duration": 0.010849,
     "end_time": "2023-10-29T03:15:59.656948",
     "exception": false,
     "start_time": "2023-10-29T03:15:59.646099",
     "status": "completed"
    },
    "tags": []
   },
   "source": [
    "#### Part B\n",
    "\n",
    "Using the regression lines, what conclusions can you draw about the effects of chocolate and price on candy popularity?"
   ]
  },
  {
   "cell_type": "code",
   "execution_count": 20,
   "id": "183db531",
   "metadata": {
    "execution": {
     "iopub.execute_input": "2023-10-29T03:15:59.680774Z",
     "iopub.status.busy": "2023-10-29T03:15:59.680446Z",
     "iopub.status.idle": "2023-10-29T03:15:59.688279Z",
     "shell.execute_reply": "2023-10-29T03:15:59.687182Z"
    },
    "papermill": {
     "duration": 0.021959,
     "end_time": "2023-10-29T03:15:59.690028",
     "exception": false,
     "start_time": "2023-10-29T03:15:59.668069",
     "status": "completed"
    },
    "tags": []
   },
   "outputs": [
    {
     "data": {
      "application/javascript": [
       "parent.postMessage({\"jupyterEvent\": \"custom.exercise_interaction\", \"data\": {\"interactionType\": 2, \"questionType\": 4, \"questionId\": \"6.2_ThinkColorReg\", \"learnToolsVersion\": \"0.3.4\", \"valueTowardsCompletion\": 0.0, \"failureMessage\": \"\", \"exceptionClass\": \"\", \"trace\": \"\", \"outcomeType\": 4}}, \"*\")"
      ],
      "text/plain": [
       "<IPython.core.display.Javascript object>"
      ]
     },
     "metadata": {},
     "output_type": "display_data"
    },
    {
     "data": {
      "text/markdown": [
       "<span style=\"color:#3366cc\">Hint:</span> Look at each regression line - do you notice a positive or negative slope?"
      ],
      "text/plain": [
       "Hint: Look at each regression line - do you notice a positive or negative slope?"
      ]
     },
     "metadata": {},
     "output_type": "display_data"
    }
   ],
   "source": [
    "step_6.b.hint()"
   ]
  },
  {
   "cell_type": "code",
   "execution_count": 21,
   "id": "0cce1ddd",
   "metadata": {
    "execution": {
     "iopub.execute_input": "2023-10-29T03:15:59.714255Z",
     "iopub.status.busy": "2023-10-29T03:15:59.713933Z",
     "iopub.status.idle": "2023-10-29T03:15:59.716934Z",
     "shell.execute_reply": "2023-10-29T03:15:59.716305Z"
    },
    "papermill": {
     "duration": 0.017593,
     "end_time": "2023-10-29T03:15:59.719182",
     "exception": false,
     "start_time": "2023-10-29T03:15:59.701589",
     "status": "completed"
    },
    "tags": []
   },
   "outputs": [],
   "source": [
    "# Check your answer (Run this code cell to receive credit!)\n",
    "# step_6.b.solution()"
   ]
  },
  {
   "cell_type": "markdown",
   "id": "a229a0ab",
   "metadata": {
    "papermill": {
     "duration": 0.011118,
     "end_time": "2023-10-29T03:15:59.741679",
     "exception": false,
     "start_time": "2023-10-29T03:15:59.730561",
     "status": "completed"
    },
    "tags": []
   },
   "source": [
    "## Step 7: Everybody loves chocolate.\n",
    "\n",
    "#### Part A\n",
    "\n",
    "Create a categorical scatter plot to highlight the relationship between `'chocolate'` and `'winpercent'`.  Put `'chocolate'` on the (horizontal) x-axis, and `'winpercent'` on the (vertical) y-axis."
   ]
  },
  {
   "cell_type": "code",
   "execution_count": 22,
   "id": "f53e6f63",
   "metadata": {
    "execution": {
     "iopub.execute_input": "2023-10-29T03:15:59.765935Z",
     "iopub.status.busy": "2023-10-29T03:15:59.765389Z",
     "iopub.status.idle": "2023-10-29T03:16:00.016229Z",
     "shell.execute_reply": "2023-10-29T03:16:00.015330Z"
    },
    "papermill": {
     "duration": 0.265112,
     "end_time": "2023-10-29T03:16:00.018121",
     "exception": false,
     "start_time": "2023-10-29T03:15:59.753009",
     "status": "completed"
    },
    "tags": []
   },
   "outputs": [
    {
     "data": {
      "application/javascript": [
       "parent.postMessage({\"jupyterEvent\": \"custom.exercise_interaction\", \"data\": {\"outcomeType\": 1, \"valueTowardsCompletion\": 0.3333333333333333, \"interactionType\": 1, \"questionType\": 2, \"questionId\": \"7.1_PlotSwarm\", \"learnToolsVersion\": \"0.3.4\", \"failureMessage\": \"\", \"exceptionClass\": \"\", \"trace\": \"\"}}, \"*\")"
      ],
      "text/plain": [
       "<IPython.core.display.Javascript object>"
      ]
     },
     "metadata": {},
     "output_type": "display_data"
    },
    {
     "data": {
      "text/markdown": [
       "<span style=\"color:#33cc33\">Correct</span>"
      ],
      "text/plain": [
       "Correct"
      ]
     },
     "metadata": {},
     "output_type": "display_data"
    },
    {
     "data": {
      "image/png": "[encoded data removed]",
      "text/plain": [
       "<Figure size 640x480 with 1 Axes>"
      ]
     },
     "metadata": {},
     "output_type": "display_data"
    }
   ],
   "source": [
    "# Scatter plot showing the relationship between 'chocolate' and 'winpercent'\n",
    "____ # Your code here\n",
    "sns.swarmplot(data = candy_data, x = 'chocolate', y = 'winpercent')\n",
    "\n",
    "# Check your answer\n",
    "step_7.a.check()"
   ]
  },
  {
   "cell_type": "code",
   "execution_count": 23,
   "id": "8270f79f",
   "metadata": {
    "execution": {
     "iopub.execute_input": "2023-10-29T03:16:00.044599Z",
     "iopub.status.busy": "2023-10-29T03:16:00.044027Z",
     "iopub.status.idle": "2023-10-29T03:16:00.047626Z",
     "shell.execute_reply": "2023-10-29T03:16:00.047016Z"
    },
    "papermill": {
     "duration": 0.019415,
     "end_time": "2023-10-29T03:16:00.049267",
     "exception": false,
     "start_time": "2023-10-29T03:16:00.029852",
     "status": "completed"
    },
    "tags": []
   },
   "outputs": [],
   "source": [
    "# Lines below will give you a hint or solution code\n",
    "# step_7.a.hint()\n",
    "#step_7.a.solution_plot()"
   ]
  },
  {
   "cell_type": "markdown",
   "id": "67256996",
   "metadata": {
    "papermill": {
     "duration": 0.011558,
     "end_time": "2023-10-29T03:16:00.072543",
     "exception": false,
     "start_time": "2023-10-29T03:16:00.060985",
     "status": "completed"
    },
    "tags": []
   },
   "source": [
    "#### Part B\n",
    "\n",
    "You decide to dedicate a section of your report to the fact that chocolate candies tend to be more popular than candies without chocolate.  Which plot is more appropriate to tell this story: the plot from **Step 6**, or the plot from **Step 7**?"
   ]
  },
  {
   "cell_type": "code",
   "execution_count": 24,
   "id": "0ea84659",
   "metadata": {
    "execution": {
     "iopub.execute_input": "2023-10-29T03:16:00.098246Z",
     "iopub.status.busy": "2023-10-29T03:16:00.097895Z",
     "iopub.status.idle": "2023-10-29T03:16:00.101863Z",
     "shell.execute_reply": "2023-10-29T03:16:00.100954Z"
    },
    "papermill": {
     "duration": 0.019283,
     "end_time": "2023-10-29T03:16:00.103579",
     "exception": false,
     "start_time": "2023-10-29T03:16:00.084296",
     "status": "completed"
    },
    "tags": []
   },
   "outputs": [],
   "source": [
    "#step_7.b.hint()"
   ]
  },
  {
   "cell_type": "code",
   "execution_count": 25,
   "id": "a5a1d455",
   "metadata": {
    "execution": {
     "iopub.execute_input": "2023-10-29T03:16:00.129686Z",
     "iopub.status.busy": "2023-10-29T03:16:00.128672Z",
     "iopub.status.idle": "2023-10-29T03:16:00.133377Z",
     "shell.execute_reply": "2023-10-29T03:16:00.132282Z"
    },
    "papermill": {
     "duration": 0.020083,
     "end_time": "2023-10-29T03:16:00.135697",
     "exception": false,
     "start_time": "2023-10-29T03:16:00.115614",
     "status": "completed"
    },
    "tags": []
   },
   "outputs": [],
   "source": [
    "# Check your answer (Run this code cell to receive credit!)\n",
    "# step_7.b.solution()"
   ]
  },
  {
   "cell_type": "markdown",
   "id": "f553ddd8",
   "metadata": {
    "papermill": {
     "duration": 0.012699,
     "end_time": "2023-10-29T03:16:00.161185",
     "exception": false,
     "start_time": "2023-10-29T03:16:00.148486",
     "status": "completed"
    },
    "tags": []
   },
   "source": [
    "## Keep going\n",
    "\n",
    "Explore **[histograms and density plots](https://www.kaggle.com/alexisbcook/distributions)**."
   ]
  },
  {
   "cell_type": "markdown",
   "id": "2fbe81f9",
   "metadata": {
    "papermill": {
     "duration": 0.011174,
     "end_time": "2023-10-29T03:16:00.183907",
     "exception": false,
     "start_time": "2023-10-29T03:16:00.172733",
     "status": "completed"
    },
    "tags": []
   },
   "source": [
    "---\n",
    "\n",
    "\n",
    "\n",
    "\n",
    "*Have questions or comments? Visit the [course discussion forum](https://www.kaggle.com/learn/data-visualization/discussion) to chat with other learners.*"
   ]
  }
 ],
 "metadata": {
  "kernelspec": {
   "display_name": "Python 3",
   "language": "python",
   "name": "python3"
  },
  "language_info": {
   "codemirror_mode": {
    "name": "ipython",
    "version": 3
   },
   "file_extension": ".py",
   "mimetype": "text/x-python",
   "name": "python",
   "nbconvert_exporter": "python",
   "pygments_lexer": "ipython3",
   "version": "3.10.12"
  },
  "papermill": {
   "default_parameters": {},
   "duration": 7.585635,
   "end_time": "2023-10-29T03:16:00.715089",
   "environment_variables": {},
   "exception": null,
   "input_path": "__notebook__.ipynb",
   "output_path": "__notebook__.ipynb",
   "parameters": {},
   "start_time": "2023-10-29T03:15:53.129454",
   "version": "2.4.0"
  }
 },
 "nbformat": 4,
 "nbformat_minor": 5
}
