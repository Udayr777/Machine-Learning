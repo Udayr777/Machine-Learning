{
 "cells": [
  {
   "cell_type": "markdown",
   "id": "f7673da0",
   "metadata": {
    "papermill": {
     "duration": 0.008063,
     "end_time": "2023-10-28T04:20:11.955826",
     "exception": false,
     "start_time": "2023-10-28T04:20:11.947763",
     "status": "completed"
    },
    "tags": []
   },
   "source": [
    "**This notebook is an exercise in the [Data Cleaning](https://www.kaggle.com/learn/data-cleaning) course.  You can reference the tutorial at [this link](https://www.kaggle.com/alexisbcook/inconsistent-data-entry).**\n",
    "\n",
    "---\n"
   ]
  },
  {
   "cell_type": "markdown",
   "id": "3760f008",
   "metadata": {
    "papermill": {
     "duration": 0.006955,
     "end_time": "2023-10-28T04:20:11.970145",
     "exception": false,
     "start_time": "2023-10-28T04:20:11.963190",
     "status": "completed"
    },
    "tags": []
   },
   "source": [
    "In this exercise, you'll apply what you learned in the **Inconsistent data entry** tutorial.\n",
    "\n",
    "# Setup\n",
    "\n",
    "The questions below will give you feedback on your work. Run the following cell to set up the feedback system."
   ]
  },
  {
   "cell_type": "code",
   "execution_count": 1,
   "id": "ad2c7b6c",
   "metadata": {
    "execution": {
     "iopub.execute_input": "2023-10-28T04:20:11.986563Z",
     "iopub.status.busy": "2023-10-28T04:20:11.986054Z",
     "iopub.status.idle": "2023-10-28T04:20:12.595856Z",
     "shell.execute_reply": "2023-10-28T04:20:12.594665Z"
    },
    "papermill": {
     "duration": 0.621384,
     "end_time": "2023-10-28T04:20:12.598849",
     "exception": false,
     "start_time": "2023-10-28T04:20:11.977465",
     "status": "completed"
    },
    "tags": []
   },
   "outputs": [
    {
     "name": "stdout",
     "output_type": "stream",
     "text": [
      "Setup Complete\n"
     ]
    }
   ],
   "source": [
    "from learntools.core import binder\n",
    "binder.bind(globals())\n",
    "from learntools.data_cleaning.ex5 import *\n",
    "print(\"Setup Complete\")"
   ]
  },
  {
   "cell_type": "markdown",
   "id": "5712cb5e",
   "metadata": {
    "papermill": {
     "duration": 0.007199,
     "end_time": "2023-10-28T04:20:12.613937",
     "exception": false,
     "start_time": "2023-10-28T04:20:12.606738",
     "status": "completed"
    },
    "tags": []
   },
   "source": [
    "# Get our environment set up\n",
    "\n",
    "The first thing we'll need to do is load in the libraries and dataset we'll be using.  We use the same dataset from the tutorial."
   ]
  },
  {
   "cell_type": "code",
   "execution_count": 2,
   "id": "62ea9df1",
   "metadata": {
    "execution": {
     "iopub.execute_input": "2023-10-28T04:20:12.630763Z",
     "iopub.status.busy": "2023-10-28T04:20:12.630084Z",
     "iopub.status.idle": "2023-10-28T04:20:12.647792Z",
     "shell.execute_reply": "2023-10-28T04:20:12.646885Z"
    },
    "papermill": {
     "duration": 0.029121,
     "end_time": "2023-10-28T04:20:12.650378",
     "exception": false,
     "start_time": "2023-10-28T04:20:12.621257",
     "status": "completed"
    },
    "tags": []
   },
   "outputs": [],
   "source": [
    "# modules we'll use\n",
    "import pandas as pd\n",
    "import numpy as np\n",
    "\n",
    "# helpful modules\n",
    "import fuzzywuzzy\n",
    "from fuzzywuzzy import process\n",
    "import charset_normalizer\n",
    "\n",
    "# read in all our data\n",
    "professors = pd.read_csv(\"../input/pakistan-intellectual-capital/pakistan_intellectual_capital.csv\")\n",
    "\n",
    "# set seed for reproducibility\n",
    "np.random.seed(0)"
   ]
  },
  {
   "cell_type": "markdown",
   "id": "af0892b6",
   "metadata": {
    "papermill": {
     "duration": 0.007253,
     "end_time": "2023-10-28T04:20:12.665116",
     "exception": false,
     "start_time": "2023-10-28T04:20:12.657863",
     "status": "completed"
    },
    "tags": []
   },
   "source": [
    "Next, we'll redo all of the work that we did in the tutorial."
   ]
  },
  {
   "cell_type": "code",
   "execution_count": 3,
   "id": "00b022f4",
   "metadata": {
    "execution": {
     "iopub.execute_input": "2023-10-28T04:20:12.681988Z",
     "iopub.status.busy": "2023-10-28T04:20:12.681339Z",
     "iopub.status.idle": "2023-10-28T04:20:12.697079Z",
     "shell.execute_reply": "2023-10-28T04:20:12.695970Z"
    },
    "papermill": {
     "duration": 0.027424,
     "end_time": "2023-10-28T04:20:12.699882",
     "exception": false,
     "start_time": "2023-10-28T04:20:12.672458",
     "status": "completed"
    },
    "tags": []
   },
   "outputs": [
    {
     "name": "stdout",
     "output_type": "stream",
     "text": [
      "All done!\n"
     ]
    }
   ],
   "source": [
    "# convert to lower case\n",
    "professors['Country'] = professors['Country'].str.lower()\n",
    "# remove trailing white spaces\n",
    "professors['Country'] = professors['Country'].str.strip()\n",
    "\n",
    "# get the top 10 closest matches to \"south korea\"\n",
    "countries = professors['Country'].unique()\n",
    "matches = fuzzywuzzy.process.extract(\"south korea\", countries, limit=10, scorer=fuzzywuzzy.fuzz.token_sort_ratio)\n",
    "\n",
    "def replace_matches_in_column(df, column, string_to_match, min_ratio = 47):\n",
    "    # get a list of unique strings\n",
    "    strings = df[column].unique()\n",
    "    \n",
    "    # get the top 10 closest matches to our input string\n",
    "    matches = fuzzywuzzy.process.extract(string_to_match, strings, \n",
    "                                         limit=10, scorer=fuzzywuzzy.fuzz.token_sort_ratio)\n",
    "\n",
    "    # only get matches with a ratio > 90\n",
    "    close_matches = [matches[0] for matches in matches if matches[1] >= min_ratio]\n",
    "\n",
    "    # get the rows of all the close matches in our dataframe\n",
    "    rows_with_matches = df[column].isin(close_matches)\n",
    "\n",
    "    # replace all rows with close matches with the input matches \n",
    "    df.loc[rows_with_matches, column] = string_to_match\n",
    "    \n",
    "    # let us know the function's done\n",
    "    print(\"All done!\")\n",
    "    \n",
    "replace_matches_in_column(df=professors, column='Country', string_to_match=\"south korea\")\n",
    "countries = professors['Country'].unique()"
   ]
  },
  {
   "cell_type": "markdown",
   "id": "7a4ed857",
   "metadata": {
    "papermill": {
     "duration": 0.007273,
     "end_time": "2023-10-28T04:20:12.714872",
     "exception": false,
     "start_time": "2023-10-28T04:20:12.707599",
     "status": "completed"
    },
    "tags": []
   },
   "source": [
    "# 1) Examine another column\n",
    "\n",
    "Write code below to take a look at all the unique values in the \"Graduated from\" column."
   ]
  },
  {
   "cell_type": "code",
   "execution_count": 4,
   "id": "57cba22c",
   "metadata": {
    "execution": {
     "iopub.execute_input": "2023-10-28T04:20:12.731518Z",
     "iopub.status.busy": "2023-10-28T04:20:12.731124Z",
     "iopub.status.idle": "2023-10-28T04:20:12.755420Z",
     "shell.execute_reply": "2023-10-28T04:20:12.754526Z"
    },
    "papermill": {
     "duration": 0.03536,
     "end_time": "2023-10-28T04:20:12.757712",
     "exception": false,
     "start_time": "2023-10-28T04:20:12.722352",
     "status": "completed"
    },
    "tags": []
   },
   "outputs": [
    {
     "data": {
      "text/html": [
       "<div>\n",
       "<style scoped>\n",
       "    .dataframe tbody tr th:only-of-type {\n",
       "        vertical-align: middle;\n",
       "    }\n",
       "\n",
       "    .dataframe tbody tr th {\n",
       "        vertical-align: top;\n",
       "    }\n",
       "\n",
       "    .dataframe thead th {\n",
       "        text-align: right;\n",
       "    }\n",
       "</style>\n",
       "<table border=\"1\" class=\"dataframe\">\n",
       "  <thead>\n",
       "    <tr style=\"text-align: right;\">\n",
       "      <th></th>\n",
       "      <th>Unnamed: 0</th>\n",
       "      <th>S#</th>\n",
       "      <th>Teacher Name</th>\n",
       "      <th>University Currently Teaching</th>\n",
       "      <th>Department</th>\n",
       "      <th>Province University Located</th>\n",
       "      <th>Designation</th>\n",
       "      <th>Terminal Degree</th>\n",
       "      <th>Graduated from</th>\n",
       "      <th>Country</th>\n",
       "      <th>Year</th>\n",
       "      <th>Area of Specialization/Research Interests</th>\n",
       "      <th>Other Information</th>\n",
       "    </tr>\n",
       "  </thead>\n",
       "  <tbody>\n",
       "    <tr>\n",
       "      <th>0</th>\n",
       "      <td>2</td>\n",
       "      <td>3</td>\n",
       "      <td>Dr. Abdul Basit</td>\n",
       "      <td>University of Balochistan</td>\n",
       "      <td>Computer Science &amp; IT</td>\n",
       "      <td>Balochistan</td>\n",
       "      <td>Assistant Professor</td>\n",
       "      <td>PhD</td>\n",
       "      <td>Asian Institute of Technology</td>\n",
       "      <td>thailand</td>\n",
       "      <td>NaN</td>\n",
       "      <td>Software Engineering &amp; DBMS</td>\n",
       "      <td>NaN</td>\n",
       "    </tr>\n",
       "    <tr>\n",
       "      <th>1</th>\n",
       "      <td>4</td>\n",
       "      <td>5</td>\n",
       "      <td>Dr. Waheed Noor</td>\n",
       "      <td>University of Balochistan</td>\n",
       "      <td>Computer Science &amp; IT</td>\n",
       "      <td>Balochistan</td>\n",
       "      <td>Assistant Professor</td>\n",
       "      <td>PhD</td>\n",
       "      <td>Asian Institute of Technology</td>\n",
       "      <td>thailand</td>\n",
       "      <td>NaN</td>\n",
       "      <td>DBMS</td>\n",
       "      <td>NaN</td>\n",
       "    </tr>\n",
       "    <tr>\n",
       "      <th>2</th>\n",
       "      <td>5</td>\n",
       "      <td>6</td>\n",
       "      <td>Dr. Junaid Baber</td>\n",
       "      <td>University of Balochistan</td>\n",
       "      <td>Computer Science &amp; IT</td>\n",
       "      <td>Balochistan</td>\n",
       "      <td>Assistant Professor</td>\n",
       "      <td>PhD</td>\n",
       "      <td>Asian Institute of Technology</td>\n",
       "      <td>thailand</td>\n",
       "      <td>NaN</td>\n",
       "      <td>Information processing, Multimedia mining</td>\n",
       "      <td>NaN</td>\n",
       "    </tr>\n",
       "    <tr>\n",
       "      <th>3</th>\n",
       "      <td>6</td>\n",
       "      <td>7</td>\n",
       "      <td>Dr. Maheen Bakhtyar</td>\n",
       "      <td>University of Balochistan</td>\n",
       "      <td>Computer Science &amp; IT</td>\n",
       "      <td>Balochistan</td>\n",
       "      <td>Assistant Professor</td>\n",
       "      <td>PhD</td>\n",
       "      <td>Asian Institute of Technology</td>\n",
       "      <td>thailand</td>\n",
       "      <td>NaN</td>\n",
       "      <td>NLP, Information Retrieval, Question Answering...</td>\n",
       "      <td>NaN</td>\n",
       "    </tr>\n",
       "    <tr>\n",
       "      <th>4</th>\n",
       "      <td>24</td>\n",
       "      <td>25</td>\n",
       "      <td>Samina Azim</td>\n",
       "      <td>Sardar Bahadur Khan Women's University</td>\n",
       "      <td>Computer Science</td>\n",
       "      <td>Balochistan</td>\n",
       "      <td>Lecturer</td>\n",
       "      <td>BS</td>\n",
       "      <td>Balochistan University of Information Technolo...</td>\n",
       "      <td>pakistan</td>\n",
       "      <td>2005.0</td>\n",
       "      <td>VLSI Electronics DLD Database</td>\n",
       "      <td>NaN</td>\n",
       "    </tr>\n",
       "  </tbody>\n",
       "</table>\n",
       "</div>"
      ],
      "text/plain": [
       "   Unnamed: 0  S#         Teacher Name  \\\n",
       "0           2   3      Dr. Abdul Basit   \n",
       "1           4   5      Dr. Waheed Noor   \n",
       "2           5   6     Dr. Junaid Baber   \n",
       "3           6   7  Dr. Maheen Bakhtyar   \n",
       "4          24  25          Samina Azim   \n",
       "\n",
       "            University Currently Teaching             Department  \\\n",
       "0               University of Balochistan  Computer Science & IT   \n",
       "1               University of Balochistan  Computer Science & IT   \n",
       "2               University of Balochistan  Computer Science & IT   \n",
       "3               University of Balochistan  Computer Science & IT   \n",
       "4  Sardar Bahadur Khan Women's University       Computer Science   \n",
       "\n",
       "  Province University Located          Designation Terminal Degree  \\\n",
       "0                 Balochistan  Assistant Professor             PhD   \n",
       "1                 Balochistan  Assistant Professor             PhD   \n",
       "2                 Balochistan  Assistant Professor             PhD   \n",
       "3                 Balochistan  Assistant Professor             PhD   \n",
       "4                 Balochistan             Lecturer              BS   \n",
       "\n",
       "                                      Graduated from   Country    Year  \\\n",
       "0                      Asian Institute of Technology  thailand     NaN   \n",
       "1                      Asian Institute of Technology  thailand     NaN   \n",
       "2                      Asian Institute of Technology  thailand     NaN   \n",
       "3                      Asian Institute of Technology  thailand     NaN   \n",
       "4  Balochistan University of Information Technolo...  pakistan  2005.0   \n",
       "\n",
       "           Area of Specialization/Research Interests Other Information  \n",
       "0                        Software Engineering & DBMS               NaN  \n",
       "1                                               DBMS               NaN  \n",
       "2          Information processing, Multimedia mining               NaN  \n",
       "3  NLP, Information Retrieval, Question Answering...               NaN  \n",
       "4                      VLSI Electronics DLD Database               NaN  "
      ]
     },
     "execution_count": 4,
     "metadata": {},
     "output_type": "execute_result"
    }
   ],
   "source": [
    "professors.head()"
   ]
  },
  {
   "cell_type": "code",
   "execution_count": 5,
   "id": "7e76750a",
   "metadata": {
    "execution": {
     "iopub.execute_input": "2023-10-28T04:20:12.776429Z",
     "iopub.status.busy": "2023-10-28T04:20:12.775257Z",
     "iopub.status.idle": "2023-10-28T04:20:12.780844Z",
     "shell.execute_reply": "2023-10-28T04:20:12.779699Z"
    },
    "papermill": {
     "duration": 0.017779,
     "end_time": "2023-10-28T04:20:12.783371",
     "exception": false,
     "start_time": "2023-10-28T04:20:12.765592",
     "status": "completed"
    },
    "tags": []
   },
   "outputs": [],
   "source": [
    "# TODO: Your code here\n",
    "uniq =professors['Graduated from'].unique()"
   ]
  },
  {
   "cell_type": "markdown",
   "id": "bb2dc732",
   "metadata": {
    "papermill": {
     "duration": 0.007701,
     "end_time": "2023-10-28T04:20:12.798905",
     "exception": false,
     "start_time": "2023-10-28T04:20:12.791204",
     "status": "completed"
    },
    "tags": []
   },
   "source": [
    "Do you notice any inconsistencies in the data?  Can any of the inconsistencies in the data be fixed by removing white spaces at the beginning and end of cells?\n",
    "\n",
    "Once you have answered these questions, run the code cell below to get credit for your work."
   ]
  },
  {
   "cell_type": "code",
   "execution_count": 6,
   "id": "c474ca28",
   "metadata": {
    "execution": {
     "iopub.execute_input": "2023-10-28T04:20:12.816564Z",
     "iopub.status.busy": "2023-10-28T04:20:12.816147Z",
     "iopub.status.idle": "2023-10-28T04:20:12.824197Z",
     "shell.execute_reply": "2023-10-28T04:20:12.823440Z"
    },
    "papermill": {
     "duration": 0.019174,
     "end_time": "2023-10-28T04:20:12.826194",
     "exception": false,
     "start_time": "2023-10-28T04:20:12.807020",
     "status": "completed"
    },
    "tags": []
   },
   "outputs": [
    {
     "data": {
      "application/javascript": [
       "parent.postMessage({\"jupyterEvent\": \"custom.exercise_interaction\", \"data\": {\"outcomeType\": 1, \"valueTowardsCompletion\": 0.3333333333333333, \"interactionType\": 1, \"questionType\": 4, \"questionId\": \"1_ExamineProvince\", \"learnToolsVersion\": \"0.3.4\", \"failureMessage\": \"\", \"exceptionClass\": \"\", \"trace\": \"\"}}, \"*\")"
      ],
      "text/plain": [
       "<IPython.core.display.Javascript object>"
      ]
     },
     "metadata": {},
     "output_type": "display_data"
    },
    {
     "data": {
      "text/markdown": [
       "<span style=\"color:#33cc33\">Correct:</span> \n",
       "\n",
       "There are inconsistencies that can be fixed by removing white spaces at the beginning and end of cells.  For instance, \"University of Central Florida\" and \" University of Central Florida\" both appear in the column."
      ],
      "text/plain": [
       "Correct: \n",
       "\n",
       "There are inconsistencies that can be fixed by removing white spaces at the beginning and end of cells.  For instance, \"University of Central Florida\" and \" University of Central Florida\" both appear in the column."
      ]
     },
     "metadata": {},
     "output_type": "display_data"
    }
   ],
   "source": [
    "# Check your answer (Run this code cell to receive credit!)\n",
    "q1.check()"
   ]
  },
  {
   "cell_type": "code",
   "execution_count": 7,
   "id": "b64ee01d",
   "metadata": {
    "execution": {
     "iopub.execute_input": "2023-10-28T04:20:12.845292Z",
     "iopub.status.busy": "2023-10-28T04:20:12.844673Z",
     "iopub.status.idle": "2023-10-28T04:20:12.851895Z",
     "shell.execute_reply": "2023-10-28T04:20:12.850842Z"
    },
    "papermill": {
     "duration": 0.019187,
     "end_time": "2023-10-28T04:20:12.854073",
     "exception": false,
     "start_time": "2023-10-28T04:20:12.834886",
     "status": "completed"
    },
    "tags": []
   },
   "outputs": [
    {
     "data": {
      "application/javascript": [
       "parent.postMessage({\"jupyterEvent\": \"custom.exercise_interaction\", \"data\": {\"interactionType\": 2, \"questionType\": 4, \"questionId\": \"1_ExamineProvince\", \"learnToolsVersion\": \"0.3.4\", \"valueTowardsCompletion\": 0.0, \"failureMessage\": \"\", \"exceptionClass\": \"\", \"trace\": \"\", \"outcomeType\": 4}}, \"*\")"
      ],
      "text/plain": [
       "<IPython.core.display.Javascript object>"
      ]
     },
     "metadata": {},
     "output_type": "display_data"
    },
    {
     "data": {
      "text/markdown": [
       "<span style=\"color:#3366cc\">Hint:</span> Use `unis = professors['Graduated from'].unique()` to take a look at the unique values in the 'Graduated from' column. You may find it useful to sort the data before printing it."
      ],
      "text/plain": [
       "Hint: Use `unis = professors['Graduated from'].unique()` to take a look at the unique values in the 'Graduated from' column. You may find it useful to sort the data before printing it."
      ]
     },
     "metadata": {},
     "output_type": "display_data"
    }
   ],
   "source": [
    "# Line below will give you a hint\n",
    "q1.hint()"
   ]
  },
  {
   "cell_type": "markdown",
   "id": "653b0537",
   "metadata": {
    "papermill": {
     "duration": 0.008284,
     "end_time": "2023-10-28T04:20:12.871198",
     "exception": false,
     "start_time": "2023-10-28T04:20:12.862914",
     "status": "completed"
    },
    "tags": []
   },
   "source": [
    "# 2) Do some text pre-processing\n",
    "\n",
    "Convert every entry in the \"Graduated from\" column in the `professors` DataFrame to remove white spaces at the beginning and end of cells."
   ]
  },
  {
   "cell_type": "code",
   "execution_count": 8,
   "id": "6a779a55",
   "metadata": {
    "execution": {
     "iopub.execute_input": "2023-10-28T04:20:12.889918Z",
     "iopub.status.busy": "2023-10-28T04:20:12.889521Z",
     "iopub.status.idle": "2023-10-28T04:20:12.901235Z",
     "shell.execute_reply": "2023-10-28T04:20:12.900131Z"
    },
    "papermill": {
     "duration": 0.023809,
     "end_time": "2023-10-28T04:20:12.903497",
     "exception": false,
     "start_time": "2023-10-28T04:20:12.879688",
     "status": "completed"
    },
    "tags": []
   },
   "outputs": [
    {
     "data": {
      "application/javascript": [
       "parent.postMessage({\"jupyterEvent\": \"custom.exercise_interaction\", \"data\": {\"outcomeType\": 1, \"valueTowardsCompletion\": 0.3333333333333333, \"interactionType\": 1, \"questionType\": 1, \"questionId\": \"2_TextProcessing\", \"learnToolsVersion\": \"0.3.4\", \"failureMessage\": \"\", \"exceptionClass\": \"\", \"trace\": \"\"}}, \"*\")"
      ],
      "text/plain": [
       "<IPython.core.display.Javascript object>"
      ]
     },
     "metadata": {},
     "output_type": "display_data"
    },
    {
     "data": {
      "text/markdown": [
       "<span style=\"color:#33cc33\">Correct</span>"
      ],
      "text/plain": [
       "Correct"
      ]
     },
     "metadata": {},
     "output_type": "display_data"
    }
   ],
   "source": [
    "# TODO: Your code here\n",
    "____\n",
    "professors['Graduated from'] = professors['Graduated from'].str.strip()\n",
    "\n",
    "# Check your answer\n",
    "q2.check()"
   ]
  },
  {
   "cell_type": "code",
   "execution_count": 9,
   "id": "6c84c038",
   "metadata": {
    "execution": {
     "iopub.execute_input": "2023-10-28T04:20:12.923314Z",
     "iopub.status.busy": "2023-10-28T04:20:12.922929Z",
     "iopub.status.idle": "2023-10-28T04:20:12.927484Z",
     "shell.execute_reply": "2023-10-28T04:20:12.926448Z"
    },
    "papermill": {
     "duration": 0.017366,
     "end_time": "2023-10-28T04:20:12.929818",
     "exception": false,
     "start_time": "2023-10-28T04:20:12.912452",
     "status": "completed"
    },
    "tags": []
   },
   "outputs": [],
   "source": [
    "# Lines below will give you a hint or solution code\n",
    "# q2.hint()\n",
    "# q2.solution()"
   ]
  },
  {
   "cell_type": "markdown",
   "id": "a08f26af",
   "metadata": {
    "papermill": {
     "duration": 0.008547,
     "end_time": "2023-10-28T04:20:12.947258",
     "exception": false,
     "start_time": "2023-10-28T04:20:12.938711",
     "status": "completed"
    },
    "tags": []
   },
   "source": [
    "# 3) Continue working with countries\n",
    "\n",
    "In the tutorial, we focused on cleaning up inconsistencies in the \"Country\" column.  Run the code cell below to view the list of unique values that we ended with."
   ]
  },
  {
   "cell_type": "code",
   "execution_count": 10,
   "id": "29e6e50b",
   "metadata": {
    "execution": {
     "iopub.execute_input": "2023-10-28T04:20:12.968332Z",
     "iopub.status.busy": "2023-10-28T04:20:12.967344Z",
     "iopub.status.idle": "2023-10-28T04:20:12.975374Z",
     "shell.execute_reply": "2023-10-28T04:20:12.974324Z"
    },
    "papermill": {
     "duration": 0.020647,
     "end_time": "2023-10-28T04:20:12.977603",
     "exception": false,
     "start_time": "2023-10-28T04:20:12.956956",
     "status": "completed"
    },
    "tags": []
   },
   "outputs": [
    {
     "data": {
      "text/plain": [
       "array(['australia', 'austria', 'canada', 'china', 'finland', 'france',\n",
       "       'germany', 'greece', 'hongkong', 'ireland', 'italy', 'japan',\n",
       "       'macau', 'malaysia', 'mauritius', 'netherland', 'new zealand',\n",
       "       'norway', 'pakistan', 'portugal', 'russian federation',\n",
       "       'saudi arabia', 'scotland', 'singapore', 'south korea', 'spain',\n",
       "       'sweden', 'thailand', 'turkey', 'uk', 'urbana', 'usa', 'usofa'],\n",
       "      dtype=object)"
      ]
     },
     "execution_count": 10,
     "metadata": {},
     "output_type": "execute_result"
    }
   ],
   "source": [
    "# get all the unique values in the 'City' column\n",
    "countries = professors['Country'].unique()\n",
    "\n",
    "# sort them alphabetically and then take a closer look\n",
    "countries.sort()\n",
    "countries"
   ]
  },
  {
   "cell_type": "markdown",
   "id": "5d8cdab6",
   "metadata": {
    "papermill": {
     "duration": 0.008585,
     "end_time": "2023-10-28T04:20:12.995251",
     "exception": false,
     "start_time": "2023-10-28T04:20:12.986666",
     "status": "completed"
    },
    "tags": []
   },
   "source": [
    "Take another look at the \"Country\" column and see if there's any more data cleaning we need to do.\n",
    "\n",
    "It looks like 'usa' and 'usofa' should be the same country.  Correct the \"Country\" column in the dataframe to replace 'usofa' with 'usa'.\n",
    "\n",
    "**Use the most recent version of the DataFrame (with the whitespaces at the beginning and end of cells removed) from question 2.**"
   ]
  },
  {
   "cell_type": "code",
   "execution_count": 11,
   "id": "2e71bb86",
   "metadata": {
    "execution": {
     "iopub.execute_input": "2023-10-28T04:20:13.014906Z",
     "iopub.status.busy": "2023-10-28T04:20:13.014505Z",
     "iopub.status.idle": "2023-10-28T04:20:13.023628Z",
     "shell.execute_reply": "2023-10-28T04:20:13.022230Z"
    },
    "papermill": {
     "duration": 0.022016,
     "end_time": "2023-10-28T04:20:13.026105",
     "exception": false,
     "start_time": "2023-10-28T04:20:13.004089",
     "status": "completed"
    },
    "tags": []
   },
   "outputs": [
    {
     "data": {
      "text/plain": [
       "[('usa', 100),\n",
       " ('usofa', 75),\n",
       " ('austria', 60),\n",
       " ('australia', 50),\n",
       " ('spain', 50),\n",
       " ('urbana', 44),\n",
       " ('uk', 40),\n",
       " ('malaysia', 36),\n",
       " ('pakistan', 36),\n",
       " ('portugal', 36)]"
      ]
     },
     "execution_count": 11,
     "metadata": {},
     "output_type": "execute_result"
    }
   ],
   "source": [
    "matches = fuzzywuzzy.process.extract(\"usa\", countries,  scorer=fuzzywuzzy.fuzz.token_sort_ratio, limit = 10 )\n",
    "matches"
   ]
  },
  {
   "cell_type": "code",
   "execution_count": 12,
   "id": "f5d4f15d",
   "metadata": {
    "execution": {
     "iopub.execute_input": "2023-10-28T04:20:13.046918Z",
     "iopub.status.busy": "2023-10-28T04:20:13.046247Z",
     "iopub.status.idle": "2023-10-28T04:20:13.065336Z",
     "shell.execute_reply": "2023-10-28T04:20:13.064221Z"
    },
    "papermill": {
     "duration": 0.032156,
     "end_time": "2023-10-28T04:20:13.067773",
     "exception": false,
     "start_time": "2023-10-28T04:20:13.035617",
     "status": "completed"
    },
    "tags": []
   },
   "outputs": [
    {
     "name": "stdout",
     "output_type": "stream",
     "text": [
      "All done!\n",
      "All done!\n"
     ]
    },
    {
     "data": {
      "application/javascript": [
       "parent.postMessage({\"jupyterEvent\": \"custom.exercise_interaction\", \"data\": {\"outcomeType\": 1, \"valueTowardsCompletion\": 0.3333333333333333, \"interactionType\": 1, \"questionType\": 1, \"questionId\": \"3_WorkingWithCities\", \"learnToolsVersion\": \"0.3.4\", \"failureMessage\": \"\", \"exceptionClass\": \"\", \"trace\": \"\"}}, \"*\")"
      ],
      "text/plain": [
       "<IPython.core.display.Javascript object>"
      ]
     },
     "metadata": {},
     "output_type": "display_data"
    },
    {
     "data": {
      "text/markdown": [
       "<span style=\"color:#33cc33\">Correct</span>"
      ],
      "text/plain": [
       "Correct"
      ]
     },
     "metadata": {},
     "output_type": "display_data"
    }
   ],
   "source": [
    "# TODO: Your code here!\n",
    "____\n",
    "def replace_matches_in_column(df = professors, column='Country', string_to_match='usa', min_ratio = 74):\n",
    "    strings = df[column].unique()\n",
    "    matches_to_string = fuzzywuzzy.process.extract(string_to_match, strings, scorer = fuzzywuzzy.fuzz.token_sort_ratio, limit = 10)\n",
    "    close_matches = [matches[0] for matches in matches if matches[1] >= min_ratio]\n",
    "    rows_with_matches = df[column].isin(close_matches)\n",
    "    df.loc[rows_with_matches, column] = string_to_match\n",
    "    print(\"All done!\")\n",
    "matches = fuzzywuzzy.process.extract(\"usa\", countries, limit=10, scorer=fuzzywuzzy.fuzz.token_sort_ratio)\n",
    "replace_matches_in_column(df=professors, column='Country', string_to_match=\"usa\", min_ratio=70)\n",
    "\n",
    "replace_matches_in_column(df=professors, column='Country', string_to_match=\"usa\")\n",
    "countries = professors['Country'].unique()\n",
    "\n",
    "# Check your answer\n",
    "q3.check()"
   ]
  },
  {
   "cell_type": "code",
   "execution_count": 13,
   "id": "0cba5005",
   "metadata": {
    "execution": {
     "iopub.execute_input": "2023-10-28T04:20:13.089111Z",
     "iopub.status.busy": "2023-10-28T04:20:13.088739Z",
     "iopub.status.idle": "2023-10-28T04:20:13.093055Z",
     "shell.execute_reply": "2023-10-28T04:20:13.091961Z"
    },
    "papermill": {
     "duration": 0.017958,
     "end_time": "2023-10-28T04:20:13.095440",
     "exception": false,
     "start_time": "2023-10-28T04:20:13.077482",
     "status": "completed"
    },
    "tags": []
   },
   "outputs": [],
   "source": [
    "# Lines below will give you a hint or solution code\n",
    "# q3.hint()\n",
    "# q3.solution()"
   ]
  },
  {
   "cell_type": "markdown",
   "id": "02f5e065",
   "metadata": {
    "papermill": {
     "duration": 0.009308,
     "end_time": "2023-10-28T04:20:13.114390",
     "exception": false,
     "start_time": "2023-10-28T04:20:13.105082",
     "status": "completed"
    },
    "tags": []
   },
   "source": [
    "# Congratulations!\n",
    "\n",
    "Congratulations for completing the **Data Cleaning** course on Kaggle Learn!\n",
    "\n",
    "To practice your new skills, you're encouraged to download and investigate some of [Kaggle's Datasets](https://www.kaggle.com/datasets)."
   ]
  },
  {
   "cell_type": "markdown",
   "id": "3b0c5afd",
   "metadata": {
    "papermill": {
     "duration": 0.009731,
     "end_time": "2023-10-28T04:20:13.133771",
     "exception": false,
     "start_time": "2023-10-28T04:20:13.124040",
     "status": "completed"
    },
    "tags": []
   },
   "source": [
    "---\n",
    "\n",
    "\n",
    "\n",
    "\n",
    "*Have questions or comments? Visit the [course discussion forum](https://www.kaggle.com/learn/data-cleaning/discussion) to chat with other learners.*"
   ]
  }
 ],
 "metadata": {
  "kernelspec": {
   "display_name": "Python 3",
   "language": "python",
   "name": "python3"
  },
  "language_info": {
   "codemirror_mode": {
    "name": "ipython",
    "version": 3
   },
   "file_extension": ".py",
   "mimetype": "text/x-python",
   "name": "python",
   "nbconvert_exporter": "python",
   "pygments_lexer": "ipython3",
   "version": "3.10.12"
  },
  "papermill": {
   "default_parameters": {},
   "duration": 5.359576,
   "end_time": "2023-10-28T04:20:13.664021",
   "environment_variables": {},
   "exception": null,
   "input_path": "__notebook__.ipynb",
   "output_path": "__notebook__.ipynb",
   "parameters": {},
   "start_time": "2023-10-28T04:20:08.304445",
   "version": "2.4.0"
  }
 },
 "nbformat": 4,
 "nbformat_minor": 5
}
