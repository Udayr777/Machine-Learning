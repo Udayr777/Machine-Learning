{
  "nbformat": 4,
  "nbformat_minor": 0,
  "metadata": {
    "colab": {
      "provenance": [],
      "authorship_tag": "ABX9TyN1IDF/f2bq2yURc8EhDDeC",
      "include_colab_link": true
    },
    "kernelspec": {
      "name": "python3",
      "display_name": "Python 3"
    },
    "language_info": {
      "name": "python"
    }
  },
  "cells": [
    {
      "cell_type": "markdown",
      "metadata": {
        "id": "view-in-github",
        "colab_type": "text"
      },
      "source": [
        "<a href=\"https://colab.research.google.com/github/Udayr777/Machine-Learning/blob/main/LinearRegression.ipynb\" target=\"_parent\"><img src=\"https://colab.research.google.com/assets/colab-badge.svg\" alt=\"Open In Colab\"/></a>"
      ]
    },
    {
      "cell_type": "code",
      "execution_count": 58,
      "metadata": {
        "id": "gQMmRZh58XDj"
      },
      "outputs": [],
      "source": [
        "# importing Libraries\n",
        "import pandas as pd\n",
        "import numpy as np\n",
        "import plotly.express as px\n",
        "\n",
        "from sklearn.preprocessing import StandardScaler\n",
        "from sklearn.linear_model import LinearRegression\n",
        "from sklearn.metrics import mean_squared_error,mean_absolute_error, r2_score\n"
      ]
    },
    {
      "cell_type": "code",
      "source": [
        "# load the dataset\n",
        "train = pd.read_csv('train.csv')\n",
        "test = pd.read_csv('test.csv')"
      ],
      "metadata": {
        "id": "9O9-8_6G8qWa"
      },
      "execution_count": 5,
      "outputs": []
    },
    {
      "cell_type": "code",
      "source": [
        "train.head()"
      ],
      "metadata": {
        "colab": {
          "base_uri": "https://localhost:8080/",
          "height": 206
        },
        "id": "k8j89qyoGTjL",
        "outputId": "8e5d2e36-acaf-49ab-f571-23feb1fe26d4"
      },
      "execution_count": 6,
      "outputs": [
        {
          "output_type": "execute_result",
          "data": {
            "text/plain": [
              "      x          y\n",
              "0  24.0  21.549452\n",
              "1  50.0  47.464463\n",
              "2  15.0  17.218656\n",
              "3  38.0  36.586398\n",
              "4  87.0  87.288984"
            ],
            "text/html": [
              "\n",
              "  <div id=\"df-dd8ed4d6-03d8-4f7e-82c8-a979f2a6da02\" class=\"colab-df-container\">\n",
              "    <div>\n",
              "<style scoped>\n",
              "    .dataframe tbody tr th:only-of-type {\n",
              "        vertical-align: middle;\n",
              "    }\n",
              "\n",
              "    .dataframe tbody tr th {\n",
              "        vertical-align: top;\n",
              "    }\n",
              "\n",
              "    .dataframe thead th {\n",
              "        text-align: right;\n",
              "    }\n",
              "</style>\n",
              "<table border=\"1\" class=\"dataframe\">\n",
              "  <thead>\n",
              "    <tr style=\"text-align: right;\">\n",
              "      <th></th>\n",
              "      <th>x</th>\n",
              "      <th>y</th>\n",
              "    </tr>\n",
              "  </thead>\n",
              "  <tbody>\n",
              "    <tr>\n",
              "      <th>0</th>\n",
              "      <td>24.0</td>\n",
              "      <td>21.549452</td>\n",
              "    </tr>\n",
              "    <tr>\n",
              "      <th>1</th>\n",
              "      <td>50.0</td>\n",
              "      <td>47.464463</td>\n",
              "    </tr>\n",
              "    <tr>\n",
              "      <th>2</th>\n",
              "      <td>15.0</td>\n",
              "      <td>17.218656</td>\n",
              "    </tr>\n",
              "    <tr>\n",
              "      <th>3</th>\n",
              "      <td>38.0</td>\n",
              "      <td>36.586398</td>\n",
              "    </tr>\n",
              "    <tr>\n",
              "      <th>4</th>\n",
              "      <td>87.0</td>\n",
              "      <td>87.288984</td>\n",
              "    </tr>\n",
              "  </tbody>\n",
              "</table>\n",
              "</div>\n",
              "    <div class=\"colab-df-buttons\">\n",
              "\n",
              "  <div class=\"colab-df-container\">\n",
              "    <button class=\"colab-df-convert\" onclick=\"convertToInteractive('df-dd8ed4d6-03d8-4f7e-82c8-a979f2a6da02')\"\n",
              "            title=\"Convert this dataframe to an interactive table.\"\n",
              "            style=\"display:none;\">\n",
              "\n",
              "  <svg xmlns=\"http://www.w3.org/2000/svg\" height=\"24px\" viewBox=\"0 -960 960 960\">\n",
              "    <path d=\"M120-120v-720h720v720H120Zm60-500h600v-160H180v160Zm220 220h160v-160H400v160Zm0 220h160v-160H400v160ZM180-400h160v-160H180v160Zm440 0h160v-160H620v160ZM180-180h160v-160H180v160Zm440 0h160v-160H620v160Z\"/>\n",
              "  </svg>\n",
              "    </button>\n",
              "\n",
              "  <style>\n",
              "    .colab-df-container {\n",
              "      display:flex;\n",
              "      gap: 12px;\n",
              "    }\n",
              "\n",
              "    .colab-df-convert {\n",
              "      background-color: #E8F0FE;\n",
              "      border: none;\n",
              "      border-radius: 50%;\n",
              "      cursor: pointer;\n",
              "      display: none;\n",
              "      fill: #1967D2;\n",
              "      height: 32px;\n",
              "      padding: 0 0 0 0;\n",
              "      width: 32px;\n",
              "    }\n",
              "\n",
              "    .colab-df-convert:hover {\n",
              "      background-color: #E2EBFA;\n",
              "      box-shadow: 0px 1px 2px rgba(60, 64, 67, 0.3), 0px 1px 3px 1px rgba(60, 64, 67, 0.15);\n",
              "      fill: #174EA6;\n",
              "    }\n",
              "\n",
              "    .colab-df-buttons div {\n",
              "      margin-bottom: 4px;\n",
              "    }\n",
              "\n",
              "    [theme=dark] .colab-df-convert {\n",
              "      background-color: #3B4455;\n",
              "      fill: #D2E3FC;\n",
              "    }\n",
              "\n",
              "    [theme=dark] .colab-df-convert:hover {\n",
              "      background-color: #434B5C;\n",
              "      box-shadow: 0px 1px 3px 1px rgba(0, 0, 0, 0.15);\n",
              "      filter: drop-shadow(0px 1px 2px rgba(0, 0, 0, 0.3));\n",
              "      fill: #FFFFFF;\n",
              "    }\n",
              "  </style>\n",
              "\n",
              "    <script>\n",
              "      const buttonEl =\n",
              "        document.querySelector('#df-dd8ed4d6-03d8-4f7e-82c8-a979f2a6da02 button.colab-df-convert');\n",
              "      buttonEl.style.display =\n",
              "        google.colab.kernel.accessAllowed ? 'block' : 'none';\n",
              "\n",
              "      async function convertToInteractive(key) {\n",
              "        const element = document.querySelector('#df-dd8ed4d6-03d8-4f7e-82c8-a979f2a6da02');\n",
              "        const dataTable =\n",
              "          await google.colab.kernel.invokeFunction('convertToInteractive',\n",
              "                                                    [key], {});\n",
              "        if (!dataTable) return;\n",
              "\n",
              "        const docLinkHtml = 'Like what you see? Visit the ' +\n",
              "          '<a target=\"_blank\" href=https://colab.research.google.com/notebooks/data_table.ipynb>data table notebook</a>'\n",
              "          + ' to learn more about interactive tables.';\n",
              "        element.innerHTML = '';\n",
              "        dataTable['output_type'] = 'display_data';\n",
              "        await google.colab.output.renderOutput(dataTable, element);\n",
              "        const docLink = document.createElement('div');\n",
              "        docLink.innerHTML = docLinkHtml;\n",
              "        element.appendChild(docLink);\n",
              "      }\n",
              "    </script>\n",
              "  </div>\n",
              "\n",
              "\n",
              "<div id=\"df-323d85d0-7bcb-434e-bf2e-27b3bd809ae0\">\n",
              "  <button class=\"colab-df-quickchart\" onclick=\"quickchart('df-323d85d0-7bcb-434e-bf2e-27b3bd809ae0')\"\n",
              "            title=\"Suggest charts\"\n",
              "            style=\"display:none;\">\n",
              "\n",
              "<svg xmlns=\"http://www.w3.org/2000/svg\" height=\"24px\"viewBox=\"0 0 24 24\"\n",
              "     width=\"24px\">\n",
              "    <g>\n",
              "        <path d=\"M19 3H5c-1.1 0-2 .9-2 2v14c0 1.1.9 2 2 2h14c1.1 0 2-.9 2-2V5c0-1.1-.9-2-2-2zM9 17H7v-7h2v7zm4 0h-2V7h2v10zm4 0h-2v-4h2v4z\"/>\n",
              "    </g>\n",
              "</svg>\n",
              "  </button>\n",
              "\n",
              "<style>\n",
              "  .colab-df-quickchart {\n",
              "      --bg-color: #E8F0FE;\n",
              "      --fill-color: #1967D2;\n",
              "      --hover-bg-color: #E2EBFA;\n",
              "      --hover-fill-color: #174EA6;\n",
              "      --disabled-fill-color: #AAA;\n",
              "      --disabled-bg-color: #DDD;\n",
              "  }\n",
              "\n",
              "  [theme=dark] .colab-df-quickchart {\n",
              "      --bg-color: #3B4455;\n",
              "      --fill-color: #D2E3FC;\n",
              "      --hover-bg-color: #434B5C;\n",
              "      --hover-fill-color: #FFFFFF;\n",
              "      --disabled-bg-color: #3B4455;\n",
              "      --disabled-fill-color: #666;\n",
              "  }\n",
              "\n",
              "  .colab-df-quickchart {\n",
              "    background-color: var(--bg-color);\n",
              "    border: none;\n",
              "    border-radius: 50%;\n",
              "    cursor: pointer;\n",
              "    display: none;\n",
              "    fill: var(--fill-color);\n",
              "    height: 32px;\n",
              "    padding: 0;\n",
              "    width: 32px;\n",
              "  }\n",
              "\n",
              "  .colab-df-quickchart:hover {\n",
              "    background-color: var(--hover-bg-color);\n",
              "    box-shadow: 0 1px 2px rgba(60, 64, 67, 0.3), 0 1px 3px 1px rgba(60, 64, 67, 0.15);\n",
              "    fill: var(--button-hover-fill-color);\n",
              "  }\n",
              "\n",
              "  .colab-df-quickchart-complete:disabled,\n",
              "  .colab-df-quickchart-complete:disabled:hover {\n",
              "    background-color: var(--disabled-bg-color);\n",
              "    fill: var(--disabled-fill-color);\n",
              "    box-shadow: none;\n",
              "  }\n",
              "\n",
              "  .colab-df-spinner {\n",
              "    border: 2px solid var(--fill-color);\n",
              "    border-color: transparent;\n",
              "    border-bottom-color: var(--fill-color);\n",
              "    animation:\n",
              "      spin 1s steps(1) infinite;\n",
              "  }\n",
              "\n",
              "  @keyframes spin {\n",
              "    0% {\n",
              "      border-color: transparent;\n",
              "      border-bottom-color: var(--fill-color);\n",
              "      border-left-color: var(--fill-color);\n",
              "    }\n",
              "    20% {\n",
              "      border-color: transparent;\n",
              "      border-left-color: var(--fill-color);\n",
              "      border-top-color: var(--fill-color);\n",
              "    }\n",
              "    30% {\n",
              "      border-color: transparent;\n",
              "      border-left-color: var(--fill-color);\n",
              "      border-top-color: var(--fill-color);\n",
              "      border-right-color: var(--fill-color);\n",
              "    }\n",
              "    40% {\n",
              "      border-color: transparent;\n",
              "      border-right-color: var(--fill-color);\n",
              "      border-top-color: var(--fill-color);\n",
              "    }\n",
              "    60% {\n",
              "      border-color: transparent;\n",
              "      border-right-color: var(--fill-color);\n",
              "    }\n",
              "    80% {\n",
              "      border-color: transparent;\n",
              "      border-right-color: var(--fill-color);\n",
              "      border-bottom-color: var(--fill-color);\n",
              "    }\n",
              "    90% {\n",
              "      border-color: transparent;\n",
              "      border-bottom-color: var(--fill-color);\n",
              "    }\n",
              "  }\n",
              "</style>\n",
              "\n",
              "  <script>\n",
              "    async function quickchart(key) {\n",
              "      const quickchartButtonEl =\n",
              "        document.querySelector('#' + key + ' button');\n",
              "      quickchartButtonEl.disabled = true;  // To prevent multiple clicks.\n",
              "      quickchartButtonEl.classList.add('colab-df-spinner');\n",
              "      try {\n",
              "        const charts = await google.colab.kernel.invokeFunction(\n",
              "            'suggestCharts', [key], {});\n",
              "      } catch (error) {\n",
              "        console.error('Error during call to suggestCharts:', error);\n",
              "      }\n",
              "      quickchartButtonEl.classList.remove('colab-df-spinner');\n",
              "      quickchartButtonEl.classList.add('colab-df-quickchart-complete');\n",
              "    }\n",
              "    (() => {\n",
              "      let quickchartButtonEl =\n",
              "        document.querySelector('#df-323d85d0-7bcb-434e-bf2e-27b3bd809ae0 button');\n",
              "      quickchartButtonEl.style.display =\n",
              "        google.colab.kernel.accessAllowed ? 'block' : 'none';\n",
              "    })();\n",
              "  </script>\n",
              "</div>\n",
              "\n",
              "    </div>\n",
              "  </div>\n"
            ],
            "application/vnd.google.colaboratory.intrinsic+json": {
              "type": "dataframe",
              "variable_name": "train",
              "summary": "{\n  \"name\": \"train\",\n  \"rows\": 700,\n  \"fields\": [\n    {\n      \"column\": \"x\",\n      \"properties\": {\n        \"dtype\": \"number\",\n        \"std\": 134.68170287857308,\n        \"min\": 0.0,\n        \"max\": 3530.15736917,\n        \"num_unique_values\": 102,\n        \"samples\": [\n          21.0,\n          45.0,\n          56.0\n        ],\n        \"semantic_type\": \"\",\n        \"description\": \"\"\n      }\n    },\n    {\n      \"column\": \"y\",\n      \"properties\": {\n        \"dtype\": \"number\",\n        \"std\": 29.109217100389873,\n        \"min\": -3.83998112,\n        \"max\": 108.8716183,\n        \"num_unique_values\": 699,\n        \"samples\": [\n          96.62327888,\n          94.2963344,\n          14.55896144\n        ],\n        \"semantic_type\": \"\",\n        \"description\": \"\"\n      }\n    }\n  ]\n}"
            }
          },
          "metadata": {},
          "execution_count": 6
        }
      ]
    },
    {
      "cell_type": "code",
      "source": [
        "test.head()"
      ],
      "metadata": {
        "colab": {
          "base_uri": "https://localhost:8080/",
          "height": 206
        },
        "id": "Zuf-SM3iGXsZ",
        "outputId": "5bd32c74-0c9b-4eae-ade4-6216dad11df9"
      },
      "execution_count": 8,
      "outputs": [
        {
          "output_type": "execute_result",
          "data": {
            "text/plain": [
              "    x          y\n",
              "0  77  79.775152\n",
              "1  21  23.177279\n",
              "2  22  25.609262\n",
              "3  20  17.857388\n",
              "4  36  41.849864"
            ],
            "text/html": [
              "\n",
              "  <div id=\"df-1431236b-d9e8-47e5-a85d-58b1afd56caf\" class=\"colab-df-container\">\n",
              "    <div>\n",
              "<style scoped>\n",
              "    .dataframe tbody tr th:only-of-type {\n",
              "        vertical-align: middle;\n",
              "    }\n",
              "\n",
              "    .dataframe tbody tr th {\n",
              "        vertical-align: top;\n",
              "    }\n",
              "\n",
              "    .dataframe thead th {\n",
              "        text-align: right;\n",
              "    }\n",
              "</style>\n",
              "<table border=\"1\" class=\"dataframe\">\n",
              "  <thead>\n",
              "    <tr style=\"text-align: right;\">\n",
              "      <th></th>\n",
              "      <th>x</th>\n",
              "      <th>y</th>\n",
              "    </tr>\n",
              "  </thead>\n",
              "  <tbody>\n",
              "    <tr>\n",
              "      <th>0</th>\n",
              "      <td>77</td>\n",
              "      <td>79.775152</td>\n",
              "    </tr>\n",
              "    <tr>\n",
              "      <th>1</th>\n",
              "      <td>21</td>\n",
              "      <td>23.177279</td>\n",
              "    </tr>\n",
              "    <tr>\n",
              "      <th>2</th>\n",
              "      <td>22</td>\n",
              "      <td>25.609262</td>\n",
              "    </tr>\n",
              "    <tr>\n",
              "      <th>3</th>\n",
              "      <td>20</td>\n",
              "      <td>17.857388</td>\n",
              "    </tr>\n",
              "    <tr>\n",
              "      <th>4</th>\n",
              "      <td>36</td>\n",
              "      <td>41.849864</td>\n",
              "    </tr>\n",
              "  </tbody>\n",
              "</table>\n",
              "</div>\n",
              "    <div class=\"colab-df-buttons\">\n",
              "\n",
              "  <div class=\"colab-df-container\">\n",
              "    <button class=\"colab-df-convert\" onclick=\"convertToInteractive('df-1431236b-d9e8-47e5-a85d-58b1afd56caf')\"\n",
              "            title=\"Convert this dataframe to an interactive table.\"\n",
              "            style=\"display:none;\">\n",
              "\n",
              "  <svg xmlns=\"http://www.w3.org/2000/svg\" height=\"24px\" viewBox=\"0 -960 960 960\">\n",
              "    <path d=\"M120-120v-720h720v720H120Zm60-500h600v-160H180v160Zm220 220h160v-160H400v160Zm0 220h160v-160H400v160ZM180-400h160v-160H180v160Zm440 0h160v-160H620v160ZM180-180h160v-160H180v160Zm440 0h160v-160H620v160Z\"/>\n",
              "  </svg>\n",
              "    </button>\n",
              "\n",
              "  <style>\n",
              "    .colab-df-container {\n",
              "      display:flex;\n",
              "      gap: 12px;\n",
              "    }\n",
              "\n",
              "    .colab-df-convert {\n",
              "      background-color: #E8F0FE;\n",
              "      border: none;\n",
              "      border-radius: 50%;\n",
              "      cursor: pointer;\n",
              "      display: none;\n",
              "      fill: #1967D2;\n",
              "      height: 32px;\n",
              "      padding: 0 0 0 0;\n",
              "      width: 32px;\n",
              "    }\n",
              "\n",
              "    .colab-df-convert:hover {\n",
              "      background-color: #E2EBFA;\n",
              "      box-shadow: 0px 1px 2px rgba(60, 64, 67, 0.3), 0px 1px 3px 1px rgba(60, 64, 67, 0.15);\n",
              "      fill: #174EA6;\n",
              "    }\n",
              "\n",
              "    .colab-df-buttons div {\n",
              "      margin-bottom: 4px;\n",
              "    }\n",
              "\n",
              "    [theme=dark] .colab-df-convert {\n",
              "      background-color: #3B4455;\n",
              "      fill: #D2E3FC;\n",
              "    }\n",
              "\n",
              "    [theme=dark] .colab-df-convert:hover {\n",
              "      background-color: #434B5C;\n",
              "      box-shadow: 0px 1px 3px 1px rgba(0, 0, 0, 0.15);\n",
              "      filter: drop-shadow(0px 1px 2px rgba(0, 0, 0, 0.3));\n",
              "      fill: #FFFFFF;\n",
              "    }\n",
              "  </style>\n",
              "\n",
              "    <script>\n",
              "      const buttonEl =\n",
              "        document.querySelector('#df-1431236b-d9e8-47e5-a85d-58b1afd56caf button.colab-df-convert');\n",
              "      buttonEl.style.display =\n",
              "        google.colab.kernel.accessAllowed ? 'block' : 'none';\n",
              "\n",
              "      async function convertToInteractive(key) {\n",
              "        const element = document.querySelector('#df-1431236b-d9e8-47e5-a85d-58b1afd56caf');\n",
              "        const dataTable =\n",
              "          await google.colab.kernel.invokeFunction('convertToInteractive',\n",
              "                                                    [key], {});\n",
              "        if (!dataTable) return;\n",
              "\n",
              "        const docLinkHtml = 'Like what you see? Visit the ' +\n",
              "          '<a target=\"_blank\" href=https://colab.research.google.com/notebooks/data_table.ipynb>data table notebook</a>'\n",
              "          + ' to learn more about interactive tables.';\n",
              "        element.innerHTML = '';\n",
              "        dataTable['output_type'] = 'display_data';\n",
              "        await google.colab.output.renderOutput(dataTable, element);\n",
              "        const docLink = document.createElement('div');\n",
              "        docLink.innerHTML = docLinkHtml;\n",
              "        element.appendChild(docLink);\n",
              "      }\n",
              "    </script>\n",
              "  </div>\n",
              "\n",
              "\n",
              "<div id=\"df-7be2aee8-8037-4d15-8cf9-a1480207f9e7\">\n",
              "  <button class=\"colab-df-quickchart\" onclick=\"quickchart('df-7be2aee8-8037-4d15-8cf9-a1480207f9e7')\"\n",
              "            title=\"Suggest charts\"\n",
              "            style=\"display:none;\">\n",
              "\n",
              "<svg xmlns=\"http://www.w3.org/2000/svg\" height=\"24px\"viewBox=\"0 0 24 24\"\n",
              "     width=\"24px\">\n",
              "    <g>\n",
              "        <path d=\"M19 3H5c-1.1 0-2 .9-2 2v14c0 1.1.9 2 2 2h14c1.1 0 2-.9 2-2V5c0-1.1-.9-2-2-2zM9 17H7v-7h2v7zm4 0h-2V7h2v10zm4 0h-2v-4h2v4z\"/>\n",
              "    </g>\n",
              "</svg>\n",
              "  </button>\n",
              "\n",
              "<style>\n",
              "  .colab-df-quickchart {\n",
              "      --bg-color: #E8F0FE;\n",
              "      --fill-color: #1967D2;\n",
              "      --hover-bg-color: #E2EBFA;\n",
              "      --hover-fill-color: #174EA6;\n",
              "      --disabled-fill-color: #AAA;\n",
              "      --disabled-bg-color: #DDD;\n",
              "  }\n",
              "\n",
              "  [theme=dark] .colab-df-quickchart {\n",
              "      --bg-color: #3B4455;\n",
              "      --fill-color: #D2E3FC;\n",
              "      --hover-bg-color: #434B5C;\n",
              "      --hover-fill-color: #FFFFFF;\n",
              "      --disabled-bg-color: #3B4455;\n",
              "      --disabled-fill-color: #666;\n",
              "  }\n",
              "\n",
              "  .colab-df-quickchart {\n",
              "    background-color: var(--bg-color);\n",
              "    border: none;\n",
              "    border-radius: 50%;\n",
              "    cursor: pointer;\n",
              "    display: none;\n",
              "    fill: var(--fill-color);\n",
              "    height: 32px;\n",
              "    padding: 0;\n",
              "    width: 32px;\n",
              "  }\n",
              "\n",
              "  .colab-df-quickchart:hover {\n",
              "    background-color: var(--hover-bg-color);\n",
              "    box-shadow: 0 1px 2px rgba(60, 64, 67, 0.3), 0 1px 3px 1px rgba(60, 64, 67, 0.15);\n",
              "    fill: var(--button-hover-fill-color);\n",
              "  }\n",
              "\n",
              "  .colab-df-quickchart-complete:disabled,\n",
              "  .colab-df-quickchart-complete:disabled:hover {\n",
              "    background-color: var(--disabled-bg-color);\n",
              "    fill: var(--disabled-fill-color);\n",
              "    box-shadow: none;\n",
              "  }\n",
              "\n",
              "  .colab-df-spinner {\n",
              "    border: 2px solid var(--fill-color);\n",
              "    border-color: transparent;\n",
              "    border-bottom-color: var(--fill-color);\n",
              "    animation:\n",
              "      spin 1s steps(1) infinite;\n",
              "  }\n",
              "\n",
              "  @keyframes spin {\n",
              "    0% {\n",
              "      border-color: transparent;\n",
              "      border-bottom-color: var(--fill-color);\n",
              "      border-left-color: var(--fill-color);\n",
              "    }\n",
              "    20% {\n",
              "      border-color: transparent;\n",
              "      border-left-color: var(--fill-color);\n",
              "      border-top-color: var(--fill-color);\n",
              "    }\n",
              "    30% {\n",
              "      border-color: transparent;\n",
              "      border-left-color: var(--fill-color);\n",
              "      border-top-color: var(--fill-color);\n",
              "      border-right-color: var(--fill-color);\n",
              "    }\n",
              "    40% {\n",
              "      border-color: transparent;\n",
              "      border-right-color: var(--fill-color);\n",
              "      border-top-color: var(--fill-color);\n",
              "    }\n",
              "    60% {\n",
              "      border-color: transparent;\n",
              "      border-right-color: var(--fill-color);\n",
              "    }\n",
              "    80% {\n",
              "      border-color: transparent;\n",
              "      border-right-color: var(--fill-color);\n",
              "      border-bottom-color: var(--fill-color);\n",
              "    }\n",
              "    90% {\n",
              "      border-color: transparent;\n",
              "      border-bottom-color: var(--fill-color);\n",
              "    }\n",
              "  }\n",
              "</style>\n",
              "\n",
              "  <script>\n",
              "    async function quickchart(key) {\n",
              "      const quickchartButtonEl =\n",
              "        document.querySelector('#' + key + ' button');\n",
              "      quickchartButtonEl.disabled = true;  // To prevent multiple clicks.\n",
              "      quickchartButtonEl.classList.add('colab-df-spinner');\n",
              "      try {\n",
              "        const charts = await google.colab.kernel.invokeFunction(\n",
              "            'suggestCharts', [key], {});\n",
              "      } catch (error) {\n",
              "        console.error('Error during call to suggestCharts:', error);\n",
              "      }\n",
              "      quickchartButtonEl.classList.remove('colab-df-spinner');\n",
              "      quickchartButtonEl.classList.add('colab-df-quickchart-complete');\n",
              "    }\n",
              "    (() => {\n",
              "      let quickchartButtonEl =\n",
              "        document.querySelector('#df-7be2aee8-8037-4d15-8cf9-a1480207f9e7 button');\n",
              "      quickchartButtonEl.style.display =\n",
              "        google.colab.kernel.accessAllowed ? 'block' : 'none';\n",
              "    })();\n",
              "  </script>\n",
              "</div>\n",
              "\n",
              "    </div>\n",
              "  </div>\n"
            ],
            "application/vnd.google.colaboratory.intrinsic+json": {
              "type": "dataframe",
              "variable_name": "test",
              "summary": "{\n  \"name\": \"test\",\n  \"rows\": 300,\n  \"fields\": [\n    {\n      \"column\": \"x\",\n      \"properties\": {\n        \"dtype\": \"number\",\n        \"std\": 28,\n        \"min\": 0,\n        \"max\": 100,\n        \"num_unique_values\": 97,\n        \"samples\": [\n          38,\n          88,\n          6\n        ],\n        \"semantic_type\": \"\",\n        \"description\": \"\"\n      }\n    },\n    {\n      \"column\": \"y\",\n      \"properties\": {\n        \"dtype\": \"number\",\n        \"std\": 29.071480855972098,\n        \"min\": -3.467883789,\n        \"max\": 105.5918375,\n        \"num_unique_values\": 300,\n        \"samples\": [\n          92.88772282,\n          79.50341495,\n          97.00148372\n        ],\n        \"semantic_type\": \"\",\n        \"description\": \"\"\n      }\n    }\n  ]\n}"
            }
          },
          "metadata": {},
          "execution_count": 8
        }
      ]
    },
    {
      "cell_type": "code",
      "source": [
        "# checking the shape of the dataset\n",
        "print(f'Shape of the training dataset is {train.shape}')\n",
        "print(f'Shape of the testing dataset is {test.shape}')"
      ],
      "metadata": {
        "colab": {
          "base_uri": "https://localhost:8080/"
        },
        "id": "yRY8x6Xm8y8s",
        "outputId": "d3bde3e2-a156-4c54-9f14-d4dde6b98363"
      },
      "execution_count": 10,
      "outputs": [
        {
          "output_type": "stream",
          "name": "stdout",
          "text": [
            "Shape of the training dataset is (700, 2)\n",
            "Shape of the testing dataset is (300, 2)\n"
          ]
        }
      ]
    },
    {
      "cell_type": "code",
      "source": [
        "# total missing values for training dataset\n",
        "missing_values_train = train.isnull().sum()\n",
        "missing_values_train"
      ],
      "metadata": {
        "colab": {
          "base_uri": "https://localhost:8080/"
        },
        "id": "-Ik03uVf9C9t",
        "outputId": "0b0d18d9-4461-46e0-ab54-54adb6b48411"
      },
      "execution_count": 12,
      "outputs": [
        {
          "output_type": "execute_result",
          "data": {
            "text/plain": [
              "x    0\n",
              "y    1\n",
              "dtype: int64"
            ]
          },
          "metadata": {},
          "execution_count": 12
        }
      ]
    },
    {
      "cell_type": "code",
      "source": [
        "# total missing values for training dataset\n",
        "missing_values_test = test.isnull().sum()\n",
        "missing_values_test"
      ],
      "metadata": {
        "colab": {
          "base_uri": "https://localhost:8080/"
        },
        "id": "X7rXlKXV9N02",
        "outputId": "ef33cabc-8bee-47ec-ca8d-5319f5f4e781"
      },
      "execution_count": 13,
      "outputs": [
        {
          "output_type": "execute_result",
          "data": {
            "text/plain": [
              "x    0\n",
              "y    0\n",
              "dtype: int64"
            ]
          },
          "metadata": {},
          "execution_count": 13
        }
      ]
    },
    {
      "cell_type": "code",
      "source": [
        "# missing values removal\n",
        "train = train.dropna()\n",
        "train.head()"
      ],
      "metadata": {
        "colab": {
          "base_uri": "https://localhost:8080/",
          "height": 206
        },
        "id": "U7wzpzqZHfbm",
        "outputId": "aaf06223-fde8-44bd-8d55-4a5231d3e80c"
      },
      "execution_count": 15,
      "outputs": [
        {
          "output_type": "execute_result",
          "data": {
            "text/plain": [
              "      x          y\n",
              "0  24.0  21.549452\n",
              "1  50.0  47.464463\n",
              "2  15.0  17.218656\n",
              "3  38.0  36.586398\n",
              "4  87.0  87.288984"
            ],
            "text/html": [
              "\n",
              "  <div id=\"df-becbe8c7-2a47-40bb-9845-e4b481c13043\" class=\"colab-df-container\">\n",
              "    <div>\n",
              "<style scoped>\n",
              "    .dataframe tbody tr th:only-of-type {\n",
              "        vertical-align: middle;\n",
              "    }\n",
              "\n",
              "    .dataframe tbody tr th {\n",
              "        vertical-align: top;\n",
              "    }\n",
              "\n",
              "    .dataframe thead th {\n",
              "        text-align: right;\n",
              "    }\n",
              "</style>\n",
              "<table border=\"1\" class=\"dataframe\">\n",
              "  <thead>\n",
              "    <tr style=\"text-align: right;\">\n",
              "      <th></th>\n",
              "      <th>x</th>\n",
              "      <th>y</th>\n",
              "    </tr>\n",
              "  </thead>\n",
              "  <tbody>\n",
              "    <tr>\n",
              "      <th>0</th>\n",
              "      <td>24.0</td>\n",
              "      <td>21.549452</td>\n",
              "    </tr>\n",
              "    <tr>\n",
              "      <th>1</th>\n",
              "      <td>50.0</td>\n",
              "      <td>47.464463</td>\n",
              "    </tr>\n",
              "    <tr>\n",
              "      <th>2</th>\n",
              "      <td>15.0</td>\n",
              "      <td>17.218656</td>\n",
              "    </tr>\n",
              "    <tr>\n",
              "      <th>3</th>\n",
              "      <td>38.0</td>\n",
              "      <td>36.586398</td>\n",
              "    </tr>\n",
              "    <tr>\n",
              "      <th>4</th>\n",
              "      <td>87.0</td>\n",
              "      <td>87.288984</td>\n",
              "    </tr>\n",
              "  </tbody>\n",
              "</table>\n",
              "</div>\n",
              "    <div class=\"colab-df-buttons\">\n",
              "\n",
              "  <div class=\"colab-df-container\">\n",
              "    <button class=\"colab-df-convert\" onclick=\"convertToInteractive('df-becbe8c7-2a47-40bb-9845-e4b481c13043')\"\n",
              "            title=\"Convert this dataframe to an interactive table.\"\n",
              "            style=\"display:none;\">\n",
              "\n",
              "  <svg xmlns=\"http://www.w3.org/2000/svg\" height=\"24px\" viewBox=\"0 -960 960 960\">\n",
              "    <path d=\"M120-120v-720h720v720H120Zm60-500h600v-160H180v160Zm220 220h160v-160H400v160Zm0 220h160v-160H400v160ZM180-400h160v-160H180v160Zm440 0h160v-160H620v160ZM180-180h160v-160H180v160Zm440 0h160v-160H620v160Z\"/>\n",
              "  </svg>\n",
              "    </button>\n",
              "\n",
              "  <style>\n",
              "    .colab-df-container {\n",
              "      display:flex;\n",
              "      gap: 12px;\n",
              "    }\n",
              "\n",
              "    .colab-df-convert {\n",
              "      background-color: #E8F0FE;\n",
              "      border: none;\n",
              "      border-radius: 50%;\n",
              "      cursor: pointer;\n",
              "      display: none;\n",
              "      fill: #1967D2;\n",
              "      height: 32px;\n",
              "      padding: 0 0 0 0;\n",
              "      width: 32px;\n",
              "    }\n",
              "\n",
              "    .colab-df-convert:hover {\n",
              "      background-color: #E2EBFA;\n",
              "      box-shadow: 0px 1px 2px rgba(60, 64, 67, 0.3), 0px 1px 3px 1px rgba(60, 64, 67, 0.15);\n",
              "      fill: #174EA6;\n",
              "    }\n",
              "\n",
              "    .colab-df-buttons div {\n",
              "      margin-bottom: 4px;\n",
              "    }\n",
              "\n",
              "    [theme=dark] .colab-df-convert {\n",
              "      background-color: #3B4455;\n",
              "      fill: #D2E3FC;\n",
              "    }\n",
              "\n",
              "    [theme=dark] .colab-df-convert:hover {\n",
              "      background-color: #434B5C;\n",
              "      box-shadow: 0px 1px 3px 1px rgba(0, 0, 0, 0.15);\n",
              "      filter: drop-shadow(0px 1px 2px rgba(0, 0, 0, 0.3));\n",
              "      fill: #FFFFFF;\n",
              "    }\n",
              "  </style>\n",
              "\n",
              "    <script>\n",
              "      const buttonEl =\n",
              "        document.querySelector('#df-becbe8c7-2a47-40bb-9845-e4b481c13043 button.colab-df-convert');\n",
              "      buttonEl.style.display =\n",
              "        google.colab.kernel.accessAllowed ? 'block' : 'none';\n",
              "\n",
              "      async function convertToInteractive(key) {\n",
              "        const element = document.querySelector('#df-becbe8c7-2a47-40bb-9845-e4b481c13043');\n",
              "        const dataTable =\n",
              "          await google.colab.kernel.invokeFunction('convertToInteractive',\n",
              "                                                    [key], {});\n",
              "        if (!dataTable) return;\n",
              "\n",
              "        const docLinkHtml = 'Like what you see? Visit the ' +\n",
              "          '<a target=\"_blank\" href=https://colab.research.google.com/notebooks/data_table.ipynb>data table notebook</a>'\n",
              "          + ' to learn more about interactive tables.';\n",
              "        element.innerHTML = '';\n",
              "        dataTable['output_type'] = 'display_data';\n",
              "        await google.colab.output.renderOutput(dataTable, element);\n",
              "        const docLink = document.createElement('div');\n",
              "        docLink.innerHTML = docLinkHtml;\n",
              "        element.appendChild(docLink);\n",
              "      }\n",
              "    </script>\n",
              "  </div>\n",
              "\n",
              "\n",
              "<div id=\"df-b90cb086-67bc-43cc-b516-b1a27a1a028e\">\n",
              "  <button class=\"colab-df-quickchart\" onclick=\"quickchart('df-b90cb086-67bc-43cc-b516-b1a27a1a028e')\"\n",
              "            title=\"Suggest charts\"\n",
              "            style=\"display:none;\">\n",
              "\n",
              "<svg xmlns=\"http://www.w3.org/2000/svg\" height=\"24px\"viewBox=\"0 0 24 24\"\n",
              "     width=\"24px\">\n",
              "    <g>\n",
              "        <path d=\"M19 3H5c-1.1 0-2 .9-2 2v14c0 1.1.9 2 2 2h14c1.1 0 2-.9 2-2V5c0-1.1-.9-2-2-2zM9 17H7v-7h2v7zm4 0h-2V7h2v10zm4 0h-2v-4h2v4z\"/>\n",
              "    </g>\n",
              "</svg>\n",
              "  </button>\n",
              "\n",
              "<style>\n",
              "  .colab-df-quickchart {\n",
              "      --bg-color: #E8F0FE;\n",
              "      --fill-color: #1967D2;\n",
              "      --hover-bg-color: #E2EBFA;\n",
              "      --hover-fill-color: #174EA6;\n",
              "      --disabled-fill-color: #AAA;\n",
              "      --disabled-bg-color: #DDD;\n",
              "  }\n",
              "\n",
              "  [theme=dark] .colab-df-quickchart {\n",
              "      --bg-color: #3B4455;\n",
              "      --fill-color: #D2E3FC;\n",
              "      --hover-bg-color: #434B5C;\n",
              "      --hover-fill-color: #FFFFFF;\n",
              "      --disabled-bg-color: #3B4455;\n",
              "      --disabled-fill-color: #666;\n",
              "  }\n",
              "\n",
              "  .colab-df-quickchart {\n",
              "    background-color: var(--bg-color);\n",
              "    border: none;\n",
              "    border-radius: 50%;\n",
              "    cursor: pointer;\n",
              "    display: none;\n",
              "    fill: var(--fill-color);\n",
              "    height: 32px;\n",
              "    padding: 0;\n",
              "    width: 32px;\n",
              "  }\n",
              "\n",
              "  .colab-df-quickchart:hover {\n",
              "    background-color: var(--hover-bg-color);\n",
              "    box-shadow: 0 1px 2px rgba(60, 64, 67, 0.3), 0 1px 3px 1px rgba(60, 64, 67, 0.15);\n",
              "    fill: var(--button-hover-fill-color);\n",
              "  }\n",
              "\n",
              "  .colab-df-quickchart-complete:disabled,\n",
              "  .colab-df-quickchart-complete:disabled:hover {\n",
              "    background-color: var(--disabled-bg-color);\n",
              "    fill: var(--disabled-fill-color);\n",
              "    box-shadow: none;\n",
              "  }\n",
              "\n",
              "  .colab-df-spinner {\n",
              "    border: 2px solid var(--fill-color);\n",
              "    border-color: transparent;\n",
              "    border-bottom-color: var(--fill-color);\n",
              "    animation:\n",
              "      spin 1s steps(1) infinite;\n",
              "  }\n",
              "\n",
              "  @keyframes spin {\n",
              "    0% {\n",
              "      border-color: transparent;\n",
              "      border-bottom-color: var(--fill-color);\n",
              "      border-left-color: var(--fill-color);\n",
              "    }\n",
              "    20% {\n",
              "      border-color: transparent;\n",
              "      border-left-color: var(--fill-color);\n",
              "      border-top-color: var(--fill-color);\n",
              "    }\n",
              "    30% {\n",
              "      border-color: transparent;\n",
              "      border-left-color: var(--fill-color);\n",
              "      border-top-color: var(--fill-color);\n",
              "      border-right-color: var(--fill-color);\n",
              "    }\n",
              "    40% {\n",
              "      border-color: transparent;\n",
              "      border-right-color: var(--fill-color);\n",
              "      border-top-color: var(--fill-color);\n",
              "    }\n",
              "    60% {\n",
              "      border-color: transparent;\n",
              "      border-right-color: var(--fill-color);\n",
              "    }\n",
              "    80% {\n",
              "      border-color: transparent;\n",
              "      border-right-color: var(--fill-color);\n",
              "      border-bottom-color: var(--fill-color);\n",
              "    }\n",
              "    90% {\n",
              "      border-color: transparent;\n",
              "      border-bottom-color: var(--fill-color);\n",
              "    }\n",
              "  }\n",
              "</style>\n",
              "\n",
              "  <script>\n",
              "    async function quickchart(key) {\n",
              "      const quickchartButtonEl =\n",
              "        document.querySelector('#' + key + ' button');\n",
              "      quickchartButtonEl.disabled = true;  // To prevent multiple clicks.\n",
              "      quickchartButtonEl.classList.add('colab-df-spinner');\n",
              "      try {\n",
              "        const charts = await google.colab.kernel.invokeFunction(\n",
              "            'suggestCharts', [key], {});\n",
              "      } catch (error) {\n",
              "        console.error('Error during call to suggestCharts:', error);\n",
              "      }\n",
              "      quickchartButtonEl.classList.remove('colab-df-spinner');\n",
              "      quickchartButtonEl.classList.add('colab-df-quickchart-complete');\n",
              "    }\n",
              "    (() => {\n",
              "      let quickchartButtonEl =\n",
              "        document.querySelector('#df-b90cb086-67bc-43cc-b516-b1a27a1a028e button');\n",
              "      quickchartButtonEl.style.display =\n",
              "        google.colab.kernel.accessAllowed ? 'block' : 'none';\n",
              "    })();\n",
              "  </script>\n",
              "</div>\n",
              "\n",
              "    </div>\n",
              "  </div>\n"
            ],
            "application/vnd.google.colaboratory.intrinsic+json": {
              "type": "dataframe",
              "variable_name": "train",
              "summary": "{\n  \"name\": \"train\",\n  \"rows\": 699,\n  \"fields\": [\n    {\n      \"column\": \"x\",\n      \"properties\": {\n        \"dtype\": \"number\",\n        \"std\": 28.954560214557876,\n        \"min\": 0.0,\n        \"max\": 100.0,\n        \"num_unique_values\": 101,\n        \"samples\": [\n          78.0,\n          35.0,\n          70.0\n        ],\n        \"semantic_type\": \"\",\n        \"description\": \"\"\n      }\n    },\n    {\n      \"column\": \"y\",\n      \"properties\": {\n        \"dtype\": \"number\",\n        \"std\": 29.109217100389873,\n        \"min\": -3.83998112,\n        \"max\": 108.8716183,\n        \"num_unique_values\": 699,\n        \"samples\": [\n          96.62327888,\n          94.2963344,\n          14.55896144\n        ],\n        \"semantic_type\": \"\",\n        \"description\": \"\"\n      }\n    }\n  ]\n}"
            }
          },
          "metadata": {},
          "execution_count": 15
        }
      ]
    },
    {
      "cell_type": "code",
      "source": [
        "# checking total missing values for training dataset\n",
        "missing_values_train = train.isnull().sum()\n",
        "missing_values_train"
      ],
      "metadata": {
        "colab": {
          "base_uri": "https://localhost:8080/"
        },
        "id": "zcwgokaKH5X2",
        "outputId": "1fb26cca-3cb4-4f69-9879-cee703b221dc"
      },
      "execution_count": 16,
      "outputs": [
        {
          "output_type": "execute_result",
          "data": {
            "text/plain": [
              "x    0\n",
              "y    0\n",
              "dtype: int64"
            ]
          },
          "metadata": {},
          "execution_count": 16
        }
      ]
    },
    {
      "cell_type": "code",
      "source": [
        "train.shape"
      ],
      "metadata": {
        "colab": {
          "base_uri": "https://localhost:8080/"
        },
        "id": "_PgQZ22kH_lu",
        "outputId": "2a8cb3ef-aa71-48d6-b74b-159056322959"
      },
      "execution_count": 17,
      "outputs": [
        {
          "output_type": "execute_result",
          "data": {
            "text/plain": [
              "(699, 2)"
            ]
          },
          "metadata": {},
          "execution_count": 17
        }
      ]
    },
    {
      "cell_type": "code",
      "source": [
        "# set training tragets\n",
        "\n",
        "X_train = train['x']\n",
        "y_train = train['y']\n",
        "\n",
        "# set testing tragets\n",
        "\n",
        "X_test = test['x']\n",
        "y_test = test['y']"
      ],
      "metadata": {
        "id": "lOjD0Y6yICfE"
      },
      "execution_count": 19,
      "outputs": []
    },
    {
      "cell_type": "code",
      "source": [
        "X_train.head()\n",
        "y_train.head()"
      ],
      "metadata": {
        "colab": {
          "base_uri": "https://localhost:8080/"
        },
        "id": "jzkfbo3eS7t2",
        "outputId": "42df36f6-9304-44cd-dad5-232e333a8bf2"
      },
      "execution_count": 20,
      "outputs": [
        {
          "output_type": "execute_result",
          "data": {
            "text/plain": [
              "0    21.549452\n",
              "1    47.464463\n",
              "2    17.218656\n",
              "3    36.586398\n",
              "4    87.288984\n",
              "Name: y, dtype: float64"
            ]
          },
          "metadata": {},
          "execution_count": 20
        }
      ]
    },
    {
      "cell_type": "code",
      "source": [
        "X_train = X_train.values.reshape(-1,1)\n",
        "X_test = X_test.values.reshape(-1, 1)"
      ],
      "metadata": {
        "id": "p9uEmauYNrEW"
      },
      "execution_count": 21,
      "outputs": []
    },
    {
      "cell_type": "code",
      "source": [
        "X_train\n",
        "X_test"
      ],
      "metadata": {
        "colab": {
          "base_uri": "https://localhost:8080/"
        },
        "id": "a-7O9eFLTAmi",
        "outputId": "80f530a6-0be4-4ad2-cc2d-346b81014254"
      },
      "execution_count": 27,
      "outputs": [
        {
          "output_type": "execute_result",
          "data": {
            "text/plain": [
              "array([[ 77],\n",
              "       [ 21],\n",
              "       [ 22],\n",
              "       [ 20],\n",
              "       [ 36],\n",
              "       [ 15],\n",
              "       [ 62],\n",
              "       [ 95],\n",
              "       [ 20],\n",
              "       [  5],\n",
              "       [  4],\n",
              "       [ 19],\n",
              "       [ 96],\n",
              "       [ 62],\n",
              "       [ 36],\n",
              "       [ 15],\n",
              "       [ 65],\n",
              "       [ 14],\n",
              "       [ 87],\n",
              "       [ 69],\n",
              "       [ 89],\n",
              "       [ 51],\n",
              "       [ 89],\n",
              "       [ 27],\n",
              "       [ 97],\n",
              "       [ 58],\n",
              "       [ 79],\n",
              "       [ 21],\n",
              "       [ 93],\n",
              "       [ 27],\n",
              "       [ 99],\n",
              "       [ 31],\n",
              "       [ 33],\n",
              "       [ 80],\n",
              "       [ 28],\n",
              "       [ 47],\n",
              "       [ 53],\n",
              "       [ 69],\n",
              "       [ 28],\n",
              "       [ 33],\n",
              "       [ 91],\n",
              "       [ 71],\n",
              "       [ 50],\n",
              "       [ 76],\n",
              "       [  4],\n",
              "       [ 37],\n",
              "       [ 70],\n",
              "       [ 68],\n",
              "       [ 40],\n",
              "       [ 35],\n",
              "       [ 94],\n",
              "       [ 88],\n",
              "       [ 52],\n",
              "       [ 31],\n",
              "       [ 59],\n",
              "       [  0],\n",
              "       [ 39],\n",
              "       [ 64],\n",
              "       [ 69],\n",
              "       [ 57],\n",
              "       [ 13],\n",
              "       [ 72],\n",
              "       [ 76],\n",
              "       [ 61],\n",
              "       [ 82],\n",
              "       [ 18],\n",
              "       [ 41],\n",
              "       [ 50],\n",
              "       [ 55],\n",
              "       [ 13],\n",
              "       [ 46],\n",
              "       [ 13],\n",
              "       [ 79],\n",
              "       [ 53],\n",
              "       [ 15],\n",
              "       [ 28],\n",
              "       [ 81],\n",
              "       [ 69],\n",
              "       [ 52],\n",
              "       [ 84],\n",
              "       [ 68],\n",
              "       [ 27],\n",
              "       [ 56],\n",
              "       [ 48],\n",
              "       [ 40],\n",
              "       [ 39],\n",
              "       [ 82],\n",
              "       [100],\n",
              "       [ 59],\n",
              "       [ 43],\n",
              "       [ 67],\n",
              "       [ 38],\n",
              "       [ 63],\n",
              "       [ 91],\n",
              "       [ 60],\n",
              "       [ 14],\n",
              "       [ 21],\n",
              "       [ 87],\n",
              "       [ 73],\n",
              "       [ 32],\n",
              "       [  2],\n",
              "       [ 82],\n",
              "       [ 19],\n",
              "       [ 74],\n",
              "       [ 42],\n",
              "       [ 12],\n",
              "       [  1],\n",
              "       [ 90],\n",
              "       [ 89],\n",
              "       [  0],\n",
              "       [ 41],\n",
              "       [ 16],\n",
              "       [ 94],\n",
              "       [ 97],\n",
              "       [ 66],\n",
              "       [ 24],\n",
              "       [ 17],\n",
              "       [ 90],\n",
              "       [ 13],\n",
              "       [  0],\n",
              "       [ 64],\n",
              "       [ 96],\n",
              "       [ 98],\n",
              "       [ 12],\n",
              "       [ 41],\n",
              "       [ 47],\n",
              "       [ 78],\n",
              "       [ 20],\n",
              "       [ 89],\n",
              "       [ 29],\n",
              "       [ 64],\n",
              "       [ 75],\n",
              "       [ 12],\n",
              "       [ 25],\n",
              "       [ 28],\n",
              "       [ 30],\n",
              "       [ 65],\n",
              "       [ 59],\n",
              "       [ 64],\n",
              "       [ 53],\n",
              "       [ 71],\n",
              "       [ 97],\n",
              "       [ 73],\n",
              "       [  9],\n",
              "       [ 12],\n",
              "       [ 63],\n",
              "       [ 99],\n",
              "       [ 60],\n",
              "       [ 35],\n",
              "       [  2],\n",
              "       [ 60],\n",
              "       [ 32],\n",
              "       [ 94],\n",
              "       [ 84],\n",
              "       [ 63],\n",
              "       [ 22],\n",
              "       [ 81],\n",
              "       [ 93],\n",
              "       [ 33],\n",
              "       [  7],\n",
              "       [ 42],\n",
              "       [ 46],\n",
              "       [ 54],\n",
              "       [ 16],\n",
              "       [ 49],\n",
              "       [ 43],\n",
              "       [ 95],\n",
              "       [ 66],\n",
              "       [ 21],\n",
              "       [ 35],\n",
              "       [ 80],\n",
              "       [ 37],\n",
              "       [ 54],\n",
              "       [ 56],\n",
              "       [  1],\n",
              "       [ 32],\n",
              "       [ 58],\n",
              "       [ 32],\n",
              "       [ 46],\n",
              "       [ 72],\n",
              "       [ 17],\n",
              "       [ 97],\n",
              "       [ 93],\n",
              "       [ 91],\n",
              "       [ 37],\n",
              "       [  4],\n",
              "       [ 54],\n",
              "       [ 51],\n",
              "       [ 27],\n",
              "       [ 46],\n",
              "       [ 92],\n",
              "       [ 73],\n",
              "       [ 77],\n",
              "       [ 91],\n",
              "       [ 61],\n",
              "       [ 99],\n",
              "       [  4],\n",
              "       [ 72],\n",
              "       [ 19],\n",
              "       [ 57],\n",
              "       [ 78],\n",
              "       [ 26],\n",
              "       [ 74],\n",
              "       [ 90],\n",
              "       [ 66],\n",
              "       [ 13],\n",
              "       [ 40],\n",
              "       [ 77],\n",
              "       [ 67],\n",
              "       [ 75],\n",
              "       [ 23],\n",
              "       [ 45],\n",
              "       [ 59],\n",
              "       [ 44],\n",
              "       [ 23],\n",
              "       [ 55],\n",
              "       [ 55],\n",
              "       [ 95],\n",
              "       [ 12],\n",
              "       [  4],\n",
              "       [  7],\n",
              "       [100],\n",
              "       [ 48],\n",
              "       [ 42],\n",
              "       [ 96],\n",
              "       [ 39],\n",
              "       [100],\n",
              "       [ 87],\n",
              "       [ 14],\n",
              "       [ 14],\n",
              "       [ 37],\n",
              "       [  5],\n",
              "       [ 88],\n",
              "       [ 91],\n",
              "       [ 65],\n",
              "       [ 74],\n",
              "       [ 56],\n",
              "       [ 16],\n",
              "       [  5],\n",
              "       [ 28],\n",
              "       [ 92],\n",
              "       [ 46],\n",
              "       [ 54],\n",
              "       [ 39],\n",
              "       [ 44],\n",
              "       [ 31],\n",
              "       [ 68],\n",
              "       [ 86],\n",
              "       [ 90],\n",
              "       [ 38],\n",
              "       [ 21],\n",
              "       [ 95],\n",
              "       [ 56],\n",
              "       [ 60],\n",
              "       [ 65],\n",
              "       [ 78],\n",
              "       [ 89],\n",
              "       [  6],\n",
              "       [ 67],\n",
              "       [ 36],\n",
              "       [ 16],\n",
              "       [100],\n",
              "       [ 45],\n",
              "       [ 73],\n",
              "       [ 57],\n",
              "       [ 20],\n",
              "       [ 76],\n",
              "       [ 34],\n",
              "       [ 55],\n",
              "       [ 72],\n",
              "       [ 55],\n",
              "       [  8],\n",
              "       [ 56],\n",
              "       [ 72],\n",
              "       [ 58],\n",
              "       [  6],\n",
              "       [ 96],\n",
              "       [ 23],\n",
              "       [ 58],\n",
              "       [ 23],\n",
              "       [ 19],\n",
              "       [ 25],\n",
              "       [ 64],\n",
              "       [ 21],\n",
              "       [ 59],\n",
              "       [ 19],\n",
              "       [ 16],\n",
              "       [ 42],\n",
              "       [ 43],\n",
              "       [ 61],\n",
              "       [ 92],\n",
              "       [ 11],\n",
              "       [ 41],\n",
              "       [  1],\n",
              "       [  8],\n",
              "       [ 71],\n",
              "       [ 46],\n",
              "       [ 55],\n",
              "       [ 62],\n",
              "       [ 47]])"
            ]
          },
          "metadata": {},
          "execution_count": 27
        }
      ]
    },
    {
      "cell_type": "code",
      "source": [
        "sc = StandardScaler()\n",
        "# sc.fit(X_train)\n",
        "sc.fit(X_test)\n",
        "\n",
        "X_train = sc.transform(X_train)\n",
        "X_test = sc.transform(X_test)"
      ],
      "metadata": {
        "id": "pdnSoUpkTCh-"
      },
      "execution_count": 41,
      "outputs": []
    },
    {
      "cell_type": "code",
      "source": [
        "X_train[:5]"
      ],
      "metadata": {
        "colab": {
          "base_uri": "https://localhost:8080/"
        },
        "id": "Mj8X_jYFbRiG",
        "outputId": "67fa8ae5-1c17-480f-edd6-e887368ab4b2"
      },
      "execution_count": 42,
      "outputs": [
        {
          "output_type": "execute_result",
          "data": {
            "text/plain": [
              "array([[-0.94658305],\n",
              "       [-0.03291546],\n",
              "       [-1.2628526 ],\n",
              "       [-0.45460819],\n",
              "       [ 1.2673038 ]])"
            ]
          },
          "metadata": {},
          "execution_count": 42
        }
      ]
    },
    {
      "cell_type": "code",
      "source": [
        "X_test[:5]"
      ],
      "metadata": {
        "colab": {
          "base_uri": "https://localhost:8080/"
        },
        "id": "T-uX_F2PcCU0",
        "outputId": "234dbb03-c0ed-4a51-8b72-2c3fdd99be6d"
      },
      "execution_count": 43,
      "outputs": [
        {
          "output_type": "execute_result",
          "data": {
            "text/plain": [
              "array([[ 0.91589319],\n",
              "       [-1.05200623],\n",
              "       [-1.01686517],\n",
              "       [-1.08714729],\n",
              "       [-0.52489032]])"
            ]
          },
          "metadata": {},
          "execution_count": 43
        }
      ]
    },
    {
      "cell_type": "code",
      "source": [
        "X_train.min(), X_train.max()"
      ],
      "metadata": {
        "colab": {
          "base_uri": "https://localhost:8080/"
        },
        "id": "5JYMY5IHcInm",
        "outputId": "ef141c4f-caaf-4a7b-9cb7-cc55bbf344c7"
      },
      "execution_count": 44,
      "outputs": [
        {
          "output_type": "execute_result",
          "data": {
            "text/plain": [
              "(-1.7899685147895597, 1.7241375936906962)"
            ]
          },
          "metadata": {},
          "execution_count": 44
        }
      ]
    },
    {
      "cell_type": "code",
      "source": [
        "px.scatter(x=train['x'], y=train['y'], template='gridon')"
      ],
      "metadata": {
        "colab": {
          "base_uri": "https://localhost:8080/",
          "height": 542
        },
        "id": "jmp-MFPZcWkr",
        "outputId": "a1df6dc8-d309-4e61-d6ee-ec029622f538"
      },
      "execution_count": 47,
      "outputs": [
        {
          "output_type": "display_data",
          "data": {
            "text/html": [
              "<html>\n",
              "<head><meta charset=\"utf-8\" /></head>\n",
              "<body>\n",
              "    <div>            <script src=\"https://cdnjs.cloudflare.com/ajax/libs/mathjax/2.7.5/MathJax.js?config=TeX-AMS-MML_SVG\"></script><script type=\"text/javascript\">if (window.MathJax && window.MathJax.Hub && window.MathJax.Hub.Config) {window.MathJax.Hub.Config({SVG: {font: \"STIX-Web\"}});}</script>                <script type=\"text/javascript\">window.PlotlyConfig = {MathJaxConfig: 'local'};</script>\n",
              "        <script charset=\"utf-8\" src=\"https://cdn.plot.ly/plotly-2.24.1.min.js\"></script>                <div id=\"2574595a-f640-48c5-b449-eb834caa418d\" class=\"plotly-graph-div\" style=\"height:525px; width:100%;\"></div>            <script type=\"text/javascript\">                                    window.PLOTLYENV=window.PLOTLYENV || {};                                    if (document.getElementById(\"2574595a-f640-48c5-b449-eb834caa418d\")) {                    Plotly.newPlot(                        \"2574595a-f640-48c5-b449-eb834caa418d\",                        [{\"hovertemplate\":\"x=%{x}\\u003cbr\\u003ey=%{y}\\u003cextra\\u003e\\u003c\\u002fextra\\u003e\",\"legendgroup\":\"\",\"marker\":{\"color\":\"#1F77B4\",\"symbol\":\"circle\"},\"mode\":\"markers\",\"name\":\"\",\"orientation\":\"v\",\"showlegend\":false,\"x\":[24.0,50.0,15.0,38.0,87.0,36.0,12.0,81.0,25.0,5.0,16.0,16.0,24.0,39.0,54.0,60.0,26.0,73.0,29.0,31.0,68.0,87.0,58.0,54.0,84.0,58.0,49.0,20.0,90.0,48.0,4.0,25.0,42.0,0.0,60.0,93.0,39.0,7.0,21.0,68.0,84.0,0.0,58.0,19.0,36.0,19.0,59.0,51.0,19.0,33.0,85.0,44.0,5.0,59.0,14.0,9.0,75.0,69.0,10.0,17.0,58.0,74.0,21.0,51.0,19.0,50.0,24.0,0.0,12.0,75.0,21.0,64.0,5.0,58.0,32.0,41.0,7.0,4.0,5.0,49.0,90.0,3.0,11.0,32.0,83.0,25.0,83.0,26.0,76.0,95.0,53.0,77.0,42.0,25.0,54.0,55.0,0.0,73.0,35.0,86.0,90.0,13.0,46.0,46.0,32.0,8.0,71.0,28.0,24.0,56.0,49.0,79.0,90.0,89.0,41.0,27.0,58.0,26.0,31.0,70.0,71.0,39.0,7.0,48.0,56.0,45.0,41.0,3.0,37.0,24.0,68.0,47.0,27.0,68.0,74.0,95.0,79.0,21.0,95.0,54.0,56.0,80.0,26.0,25.0,8.0,95.0,94.0,54.0,7.0,99.0,36.0,48.0,65.0,42.0,93.0,86.0,26.0,51.0,100.0,94.0,6.0,24.0,75.0,7.0,53.0,73.0,16.0,80.0,77.0,89.0,80.0,55.0,19.0,56.0,47.0,56.0,2.0,82.0,57.0,44.0,26.0,52.0,41.0,44.0,3.0,31.0,97.0,21.0,17.0,7.0,61.0,10.0,52.0,10.0,65.0,71.0,4.0,24.0,26.0,51.0,42.0,62.0,74.0,77.0,3.0,50.0,24.0,37.0,58.0,52.0,27.0,14.0,100.0,72.0,5.0,71.0,54.0,84.0,42.0,54.0,74.0,54.0,53.0,78.0,97.0,49.0,71.0,48.0,51.0,89.0,99.0,93.0,49.0,18.0,65.0,83.0,100.0,41.0,52.0,29.0,97.0,7.0,51.0,58.0,50.0,67.0,89.0,76.0,35.0,99.0,31.0,52.0,11.0,66.0,50.0,39.0,60.0,35.0,53.0,14.0,49.0,16.0,76.0,13.0,51.0,70.0,98.0,86.0,100.0,46.0,51.0,50.0,91.0,48.0,81.0,38.0,40.0,79.0,96.0,60.0,70.0,44.0,11.0,6.0,5.0,72.0,55.0,95.0,41.0,25.0,1.0,55.0,4.0,48.0,55.0,75.0,68.0,100.0,25.0,75.0,34.0,38.0,92.0,21.0,88.0,75.0,76.0,44.0,10.0,21.0,16.0,32.0,13.0,26.0,70.0,77.0,77.0,88.0,35.0,24.0,17.0,91.0,32.0,36.0,89.0,69.0,30.0,6.0,22.0,67.0,9.0,74.0,50.0,85.0,3.0,0.0,59.0,62.0,17.0,90.0,23.0,19.0,93.0,14.0,58.0,87.0,37.0,20.0,35.0,63.0,56.0,62.0,98.0,90.0,51.0,93.0,22.0,38.0,13.0,98.0,99.0,31.0,94.0,73.0,37.0,23.0,11.0,88.0,47.0,79.0,91.0,71.0,10.0,39.0,92.0,99.0,28.0,32.0,32.0,75.0,99.0,27.0,64.0,98.0,38.0,46.0,13.0,96.0,9.0,34.0,49.0,1.0,50.0,94.0,27.0,20.0,12.0,45.0,91.0,61.0,10.0,47.0,33.0,84.0,24.0,48.0,48.0,9.0,93.0,99.0,8.0,20.0,38.0,78.0,81.0,42.0,95.0,78.0,44.0,68.0,87.0,58.0,52.0,26.0,75.0,48.0,71.0,77.0,34.0,24.0,70.0,29.0,76.0,98.0,28.0,87.0,9.0,87.0,33.0,64.0,17.0,49.0,95.0,75.0,89.0,81.0,25.0,47.0,50.0,5.0,68.0,84.0,8.0,41.0,26.0,89.0,78.0,34.0,92.0,27.0,12.0,2.0,22.0,0.0,26.0,50.0,84.0,70.0,66.0,42.0,19.0,94.0,71.0,19.0,16.0,49.0,29.0,29.0,86.0,50.0,86.0,30.0,23.0,20.0,16.0,57.0,8.0,8.0,62.0,55.0,30.0,86.0,62.0,51.0,61.0,86.0,61.0,21.0,81.0,97.0,5.0,61.0,47.0,98.0,30.0,63.0,0.0,100.0,18.0,30.0,98.0,16.0,22.0,55.0,43.0,75.0,91.0,46.0,85.0,55.0,36.0,49.0,94.0,43.0,22.0,37.0,24.0,95.0,61.0,75.0,68.0,58.0,5.0,53.0,80.0,83.0,25.0,34.0,26.0,90.0,60.0,49.0,19.0,92.0,29.0,8.0,57.0,29.0,19.0,81.0,50.0,15.0,70.0,39.0,43.0,21.0,98.0,86.0,16.0,25.0,31.0,93.0,67.0,49.0,25.0,88.0,54.0,21.0,8.0,32.0,35.0,67.0,90.0,59.0,15.0,67.0,42.0,44.0,77.0,68.0,36.0,11.0,10.0,65.0,98.0,98.0,49.0,31.0,56.0,70.0,91.0,25.0,54.0,39.0,91.0,3.0,22.0,2.0,2.0,65.0,71.0,42.0,76.0,43.0,8.0,86.0,87.0,3.0,58.0,62.0,89.0,95.0,28.0,0.0,1.0,49.0,21.0,46.0,11.0,89.0,37.0,29.0,44.0,96.0,16.0,74.0,35.0,42.0,16.0,56.0,18.0,100.0,54.0,92.0,63.0,81.0,73.0,48.0,1.0,85.0,14.0,25.0,45.0,98.0,97.0,58.0,93.0,88.0,89.0,47.0,6.0,34.0,30.0,16.0,86.0,40.0,52.0,15.0,4.0,95.0,99.0,35.0,58.0,10.0,16.0,53.0,58.0,42.0,24.0,84.0,64.0,12.0,61.0,75.0,15.0,100.0,43.0,13.0,48.0,45.0,52.0,34.0,30.0,65.0,100.0,67.0,99.0,45.0,87.0,73.0,9.0,81.0,72.0,81.0,58.0,93.0,82.0,66.0,97.0],\"xaxis\":\"x\",\"y\":[21.54945196,47.46446305,17.21865634,36.58639803,87.28898389,32.46387493,10.78089683,80.7633986,24.61215147,6.963319071,11.23757338,13.53290206,24.60323899,39.40049976,48.43753838,61.69900319,26.92832418,70.4052055,29.34092408,25.30895192,69.02934339,84.99484703,57.04310305,50.5921991,83.02772202,57.05752706,47.95883341,24.34226432,94.68488281,48.03970696,7.08132338,21.99239907,42.33151664,0.329089443,61.92303698,91.17716423,39.45358014,5.996069607,22.59015942,61.18044414,85.02778957,-1.28631089,61.94273962,21.96033347,33.66194193,17.60946242,58.5630564,52.82390762,22.1363481,35.07467353,86.18822311,42.63227697,4.09817744,61.2229864,17.70677576,11.85312574,80.23051695,62.64931741,9.616859804,20.02797699,61.7510743,71.61010303,23.77154623,51.90142035,22.66073682,50.02897927,26.68794368,0.376911899,6.806419002,77.33986001,28.90260209,66.7346608,0.707510638,57.07748383,28.41453196,44.46272123,7.459605998,2.316708112,4.928546187,52.50336074,91.19109623,8.489164326,6.963371967,31.97989959,81.4281205,22.62365422,78.52505087,25.80714057,73.51081775,91.775467,49.21863516,80.50445387,50.05636123,25.46292549,55.32164264,59.1244888,1.100686692,71.98020786,30.13666408,83.88427405,89.91004752,8.335654576,47.88388961,45.00397413,31.15664574,9.190375682,74.83135003,30.23177607,24.21914027,57.87219151,50.61728392,78.67470043,86.236707,89.10409255,43.26595082,26.68273277,59.46383041,28.90055826,31.300416,71.1433266,68.4739206,39.98238856,4.075776144,47.85817542,51.20390217,43.9367213,38.13626679,3.574661632,36.4139958,22.21908523,63.5312572,49.86702787,21.53140009,64.05710234,70.77549842,92.15749762,81.22259156,25.10114067,94.08853397,53.25166165,59.16236621,75.24148428,28.22325833,25.33323728,6.364615703,95.4609216,88.64183756,58.70318693,6.815491279,99.40394676,32.77049249,47.0586788,60.53321778,40.30929858,89.42222685,86.82132066,26.11697543,53.26657596,96.62327888,95.78441027,6.047286687,24.47387908,75.96844763,3.829381009,52.51703683,72.80457527,14.10999096,80.86087062,77.01988215,86.26972444,77.13735466,51.47649476,17.34557531,57.72853572,44.15029394,59.24362743,-1.053275611,86.79002254,60.14031858,44.04222058,24.5227488,52.95305521,43.16133498,45.67562576,-2.830749501,29.19693178,96.49812401,22.5453232,20.10741433,4.035430253,61.14568518,13.97163653,55.34529893,12.18441166,64.00077658,70.3188322,-0.936895047,18.91422276,23.87590331,47.5775361,43.2736092,66.48278755,75.72605529,80.59643338,-2.235879852,47.04654956,21.59635575,32.87558963,57.95782956,52.24760027,24.58286902,12.12573805,100.0158026,74.04682658,1.611947467,70.36836307,52.26831735,83.1286166,43.64765048,49.44785426,72.6356699,52.78130641,57.11195136,79.1050629,101.6228548,53.5825402,68.92139297,46.9666961,51.02642868,85.52073551,99.51685756,94.63911256,46.78357742,21.21321959,58.37266004,87.22059677,102.4967859,43.88314335,53.06655757,26.33464785,98.52008934,9.400497579,52.94026699,53.83020877,45.94511142,65.0132736,86.5069584,75.63280796,36.78035027,100.5328916,29.04466136,51.70352433,9.199954718,71.70015848,49.82634062,37.49971096,53.65084683,33.92561965,49.92639685,8.148154262,49.72359037,16.16712757,75.30033002,9.577368568,48.38088357,72.95331671,92.59573853,88.85523586,99.00361771,45.09439571,46.94362684,48.33449605,94.92329574,47.78165248,81.28960746,37.83155021,39.69185252,76.92664854,88.02990531,56.99178872,72.58929383,44.98103442,11.99017641,1.919513328,1.628826073,66.27746655,57.53887255,94.70291077,41.21469904,25.04169243,3.778209914,50.50711779,9.682408486,48.88147608,54.40348599,71.70233156,69.35848388,99.98491591,26.03323718,75.48910307,36.59623056,40.95102191,86.78316267,15.50701184,85.86077871,79.20610113,80.80643766,48.59717283,13.93415049,27.3051179,14.00226297,33.67416,13.11612884,24.76649193,73.68477876,77.53149541,76.24503196,88.0578931,35.02445799,21.65857739,17.33681562,94.36778957,33.43396307,32.52179399,90.57741298,71.25634126,31.23212856,5.398840061,18.56241391,71.97121038,5.225759566,73.5964342,49.76948983,82.69087513,1.652309089,-3.836652144,62.03811556,61.26514581,13.24991628,88.61672694,21.13655528,23.85017475,92.01203405,10.26712261,54.14681616,87.00645713,37.69447352,19.62278654,34.78561007,62.03190983,52.67003801,58.09031476,97.19448821,90.50155298,50.5123462,94.45211871,21.10794636,37.36298431,10.28574844,96.04932416,100.0953697,30.6063167,96.19000542,71.30828034,34.59311043,19.02332876,10.76669688,90.5799868,48.71787679,78.74139764,85.23492274,71.65789964,8.938990554,39.89606046,91.85091116,99.11200375,26.22196486,33.21584226,35.72392691,76.88604495,99.30874567,25.77161074,67.85169407,98.50371084,31.11331895,45.51171028,12.65537808,95.56065366,9.526431641,36.10893209,46.43628318,-3.83998112,48.97302037,93.25305499,23.47650968,17.13551132,14.55896144,41.53992729,91.64730552,66.16652565,9.230857489,47.41377893,34.76441561,86.10796637,21.81267954,48.89963951,46.78108638,12.91328547,94.55203143,94.97068753,2.379172481,21.47982988,35.79795462,82.0763803,78.87097714,47.2492425,96.18852325,78.38491927,42.94274064,64.43231595,84.21191485,57.3069783,52.52101436,25.7440243,75.42283401,53.62523007,75.14466308,74.12151511,36.24807243,20.21665898,66.94758118,34.07278254,73.13850045,92.85929155,28.36793808,85.59308727,10.68453755,86.10708624,33.22031418,66.09563422,19.30486546,48.84542083,93.73176312,75.45758614,91.24239226,87.15690853,25.53752833,46.06629478,49.65277661,7.382244165,71.11189935,83.50570521,8.791139893,33.30638903,26.40362524,91.72960726,82.53030719,36.67762733,86.98450355,32.34784175,16.78353974,1.576584383,17.4618141,2.116113029,24.34804332,48.29491198,85.52145453,73.71434779,63.15189497,38.46213684,19.47100788,94.07428225,67.92051286,22.58096241,16.01629889,48.43307886,29.6673599,26.65566328,86.28206739,50.82304924,88.57251713,32.59980745,21.02469368,20.72894979,20.38051187,57.25180153,6.967537054,10.240085,64.94841088,55.35893915,31.24365589,90.72048818,58.750127,55.85003198,60.19925869,85.03295412,60.38823085,18.44679787,82.18839247,94.2963344,7.682024586,61.01858089,53.60562216,94.47728801,27.9645947,62.55662585,1.406254414,101.7003412,13.84973988,28.99769315,99.04315693,15.56135514,24.63528393,53.98393374,42.91449728,74.29662112,91.17012883,49.42440876,82.47683519,56.15303953,37.17063131,46.36928662,97.02383456,40.83182104,24.08498313,41.14386358,21.97388066,100.740897,61.19971596,74.39517002,69.04377173,56.68718792,5.860391715,55.72021356,79.22021816,86.30177517,25.26971886,36.33294447,27.65574228,94.79690531,58.67366671,56.15934471,18.40919388,86.26936988,26.59436195,8.452520159,56.18131518,27.65452669,20.87391785,77.83354439,50.01787825,9.290856256,75.0284725,38.3037698,44.70786405,22.51016575,102.4959452,86.76845244,13.89748578,24.81824269,33.94224862,92.26970059,68.73365081,47.38516883,32.37576914,87.67388681,54.57648371,18.06450222,7.896539841,35.00341078,36.72823317,65.84975426,89.59295492,61.69026202,11.60499315,71.0826803,43.71901164,41.57421008,74.25552425,66.28310437,36.62438077,10.32374866,7.156457657,67.88603132,101.1097591,98.6132033,50.19083844,27.83896261,55.9249564,76.47340872,92.05756378,27.35245439,55.32083476,41.39990349,93.59057024,5.297054029,21.01429422,2.267059451,-0.121860502,66.49546208,73.83637687,42.10140878,77.35135732,41.02251779,14.75305272,83.28199022,89.93374342,2.286571686,55.61421297,62.15313408,89.55803528,94.00291863,26.78023848,-0.764537626,0.282866003,44.26800515,19.85174138,47.15960005,8.359366572,92.08157084,41.88734051,30.5413129,46.87654473,96.35659485,17.9170699,71.67949917,32.64997554,39.34482965,17.03401999,52.87524074,15.85414849,108.8716183,49.30477253,89.4749477,63.67348242,83.78410946,73.51136922,46.80297244,5.809946802,85.23027975,10.58213964,21.37698317,46.0537745,95.2389253,94.15149206,54.54868046,87.36260449,88.47741598,84.48045678,48.79647071,10.76675683,30.48882921,29.76846185,13.51574749,86.12955884,43.30022747,51.92110232,16.49185287,7.998073432,97.66689567,89.80545367,38.07166567,60.27852322,6.709195759,18.35488924,56.37058203,62.80064204,41.25155632,19.42637541,82.88935804,63.61364981,11.29627199,60.02274882,72.60339326,11.87964573,100.7012737,45.12420809,14.81106804,48.09368034,42.29145672,52.73389794,36.72396986,28.64535198,62.16675273,95.58459518,66.04325304,99.9566225,46.14941984,89.13754963,69.71787806,12.31736648,78.20296268,71.30995371,81.45544709,58.59500642,94.62509374,88.60376995,63.64868529,94.9752655],\"yaxis\":\"y\",\"type\":\"scatter\"}],                        {\"template\":{\"data\":{\"pie\":[{\"automargin\":true,\"type\":\"pie\"}]},\"layout\":{\"xaxis\":{\"showgrid\":true,\"title\":{\"standoff\":15}},\"yaxis\":{\"showgrid\":true,\"title\":{\"standoff\":15}}}},\"xaxis\":{\"anchor\":\"y\",\"domain\":[0.0,1.0],\"title\":{\"text\":\"x\"}},\"yaxis\":{\"anchor\":\"x\",\"domain\":[0.0,1.0],\"title\":{\"text\":\"y\"}},\"legend\":{\"tracegroupgap\":0},\"margin\":{\"t\":60}},                        {\"responsive\": true}                    ).then(function(){\n",
              "                            \n",
              "var gd = document.getElementById('2574595a-f640-48c5-b449-eb834caa418d');\n",
              "var x = new MutationObserver(function (mutations, observer) {{\n",
              "        var display = window.getComputedStyle(gd).display;\n",
              "        if (!display || display === 'none') {{\n",
              "            console.log([gd, 'removed!']);\n",
              "            Plotly.purge(gd);\n",
              "            observer.disconnect();\n",
              "        }}\n",
              "}});\n",
              "\n",
              "// Listen for the removal of the full notebook cells\n",
              "var notebookContainer = gd.closest('#notebook-container');\n",
              "if (notebookContainer) {{\n",
              "    x.observe(notebookContainer, {childList: true});\n",
              "}}\n",
              "\n",
              "// Listen for the clearing of the current output cell\n",
              "var outputEl = gd.closest('.output');\n",
              "if (outputEl) {{\n",
              "    x.observe(outputEl, {childList: true});\n",
              "}}\n",
              "\n",
              "                        })                };                            </script>        </div>\n",
              "</body>\n",
              "</html>"
            ]
          },
          "metadata": {}
        }
      ]
    },
    {
      "cell_type": "code",
      "source": [
        "px.scatter(x=test['x'], y=test['y'], template='gridon')"
      ],
      "metadata": {
        "colab": {
          "base_uri": "https://localhost:8080/",
          "height": 542
        },
        "id": "D2FqEr-wc9n2",
        "outputId": "1b269f48-ff09-46c2-aaad-32a713cd6664"
      },
      "execution_count": 48,
      "outputs": [
        {
          "output_type": "display_data",
          "data": {
            "text/html": [
              "<html>\n",
              "<head><meta charset=\"utf-8\" /></head>\n",
              "<body>\n",
              "    <div>            <script src=\"https://cdnjs.cloudflare.com/ajax/libs/mathjax/2.7.5/MathJax.js?config=TeX-AMS-MML_SVG\"></script><script type=\"text/javascript\">if (window.MathJax && window.MathJax.Hub && window.MathJax.Hub.Config) {window.MathJax.Hub.Config({SVG: {font: \"STIX-Web\"}});}</script>                <script type=\"text/javascript\">window.PlotlyConfig = {MathJaxConfig: 'local'};</script>\n",
              "        <script charset=\"utf-8\" src=\"https://cdn.plot.ly/plotly-2.24.1.min.js\"></script>                <div id=\"2e194b35-94b6-46c6-9b29-820642a2abc9\" class=\"plotly-graph-div\" style=\"height:525px; width:100%;\"></div>            <script type=\"text/javascript\">                                    window.PLOTLYENV=window.PLOTLYENV || {};                                    if (document.getElementById(\"2e194b35-94b6-46c6-9b29-820642a2abc9\")) {                    Plotly.newPlot(                        \"2e194b35-94b6-46c6-9b29-820642a2abc9\",                        [{\"hovertemplate\":\"x=%{x}\\u003cbr\\u003ey=%{y}\\u003cextra\\u003e\\u003c\\u002fextra\\u003e\",\"legendgroup\":\"\",\"marker\":{\"color\":\"#1F77B4\",\"symbol\":\"circle\"},\"mode\":\"markers\",\"name\":\"\",\"orientation\":\"v\",\"showlegend\":false,\"x\":[77,21,22,20,36,15,62,95,20,5,4,19,96,62,36,15,65,14,87,69,89,51,89,27,97,58,79,21,93,27,99,31,33,80,28,47,53,69,28,33,91,71,50,76,4,37,70,68,40,35,94,88,52,31,59,0,39,64,69,57,13,72,76,61,82,18,41,50,55,13,46,13,79,53,15,28,81,69,52,84,68,27,56,48,40,39,82,100,59,43,67,38,63,91,60,14,21,87,73,32,2,82,19,74,42,12,1,90,89,0,41,16,94,97,66,24,17,90,13,0,64,96,98,12,41,47,78,20,89,29,64,75,12,25,28,30,65,59,64,53,71,97,73,9,12,63,99,60,35,2,60,32,94,84,63,22,81,93,33,7,42,46,54,16,49,43,95,66,21,35,80,37,54,56,1,32,58,32,46,72,17,97,93,91,37,4,54,51,27,46,92,73,77,91,61,99,4,72,19,57,78,26,74,90,66,13,40,77,67,75,23,45,59,44,23,55,55,95,12,4,7,100,48,42,96,39,100,87,14,14,37,5,88,91,65,74,56,16,5,28,92,46,54,39,44,31,68,86,90,38,21,95,56,60,65,78,89,6,67,36,16,100,45,73,57,20,76,34,55,72,55,8,56,72,58,6,96,23,58,23,19,25,64,21,59,19,16,42,43,61,92,11,41,1,8,71,46,55,62,47],\"xaxis\":\"x\",\"y\":[79.77515201,23.17727887,25.60926156,17.85738813,41.84986439,9.805234876,58.87465933,97.61793701,18.39512747,8.746747654,2.811415826,17.09537241,95.14907176,61.38800663,40.24701716,14.82248589,66.95806869,16.63507984,90.65513736,77.22982636,92.11906278,46.91387709,89.82634442,21.71380347,97.41206981,57.01631363,78.31056542,19.1315097,93.03483388,26.59112396,97.55155344,31.43524822,35.12724777,78.61042432,33.07112825,51.69967172,53.62235225,69.46306072,27.42497237,36.34644189,95.06140858,68.16724757,50.96155532,78.04237454,5.607664865,36.11334779,67.2352155,65.01324035,38.14753871,34.31141446,95.28503937,87.84749912,54.08170635,31.93063515,59.61247085,-1.040114209,47.49374765,62.60089773,70.9146434,56.14834113,14.05572877,68.11367147,75.59701346,59.225745,85.45504157,17.76197116,38.68888682,50.96343637,51.83503872,17.0761107,46.56141773,10.34754461,77.91032969,50.17008622,13.25690647,31.32274932,73.9308764,74.45114379,52.01932286,83.68820499,70.3698748,23.44479161,49.83051801,49.88226593,41.04525583,33.37834391,81.29750133,105.5918375,56.82457013,48.67252645,67.02150613,38.43076389,58.61466887,89.12377509,60.9105427,13.83959878,16.89085185,84.06676818,70.34969772,33.38474138,-1.63296825,88.54475895,17.44047622,75.69298554,41.97607107,12.59244741,0.275307261,98.13258005,87.45721555,-2.344738542,39.3294153,16.68715211,96.58888601,97.70342201,67.01715955,25.63476257,13.41310757,95.15647284,9.744164258,-3.467883789,62.82816355,97.27405461,95.58017185,7.468501839,45.44599591,46.69013968,74.4993599,21.63500655,91.59548851,26.49487961,67.38654703,74.25362837,12.07991648,21.32273728,29.31770045,26.48713683,68.94699774,59.10598995,64.37521087,60.20758349,70.34329706,97.1082562,75.7584178,10.80462727,12.11219941,63.28312382,98.03017721,63.19354354,34.8534823,-2.819913974,59.8313966,29.38505024,97.00148372,85.18657275,61.74063192,18.84798163,78.79008525,95.12400481,30.48881287,10.41468095,38.98317436,46.11021062,52.45103628,21.16523945,52.28620611,44.18863945,97.13832018,67.22008001,18.98322306,24.3884599,79.44769523,40.03504862,53.32005764,54.55446979,-2.761182595,37.80182795,57.48741435,36.06292994,49.83538167,74.68953276,14.86159401,101.0697879,99.43577876,91.69240746,34.12473248,6.079390073,59.07247174,56.43046022,30.49412933,48.35172635,89.73153611,72.86282528,80.97144285,91.36566374,60.07137496,99.87382707,8.655714172,69.39858505,19.38780134,53.11628433,78.39683006,25.75612514,75.07484683,92.88772282,69.45498498,13.12109842,48.09843134,79.3142548,68.48820749,73.2300846,24.68362712,41.90368917,62.22635684,45.96396877,23.52647153,51.80035866,51.10774273,95.79747345,9.241138977,7.646529763,9.281699753,103.5266162,47.41006725,42.03835773,96.11982476,38.05766408,105.4503788,88.80306911,15.49301141,12.42624606,40.00709598,5.634030902,87.36938931,89.73951993,66.61499643,72.9138853,57.19103506,11.21710477,0.676076749,28.15668543,95.3958003,52.05490703,59.70864577,36.79224762,37.08457698,24.18437976,67.28725332,82.870594,89.899991,36.94173178,19.87562242,90.71481654,61.09367762,60.11134958,64.83296316,81.40381769,92.40217686,2.576625376,63.80768172,38.67780759,16.82839701,99.78687252,44.68913433,71.00377824,51.57326718,19.87846479,79.50341495,34.58876491,55.7383467,68.19721905,55.81628509,9.391416798,56.01448111,77.9969477,55.37049953,11.89457829,94.79081712,25.69041546,53.52042319,18.31396758,21.42637785,30.41303282,67.68142149,17.0854783,60.91792707,14.99514319,16.74923937,41.46923883,42.84526108,59.12912974,91.30863673,8.673336357,39.31485292,5.313686205,5.405220518,68.5458879,47.33487629,54.09063686,63.29717058,52.45946688],\"yaxis\":\"y\",\"type\":\"scatter\"}],                        {\"template\":{\"data\":{\"pie\":[{\"automargin\":true,\"type\":\"pie\"}]},\"layout\":{\"xaxis\":{\"showgrid\":true,\"title\":{\"standoff\":15}},\"yaxis\":{\"showgrid\":true,\"title\":{\"standoff\":15}}}},\"xaxis\":{\"anchor\":\"y\",\"domain\":[0.0,1.0],\"title\":{\"text\":\"x\"}},\"yaxis\":{\"anchor\":\"x\",\"domain\":[0.0,1.0],\"title\":{\"text\":\"y\"}},\"legend\":{\"tracegroupgap\":0},\"margin\":{\"t\":60}},                        {\"responsive\": true}                    ).then(function(){\n",
              "                            \n",
              "var gd = document.getElementById('2e194b35-94b6-46c6-9b29-820642a2abc9');\n",
              "var x = new MutationObserver(function (mutations, observer) {{\n",
              "        var display = window.getComputedStyle(gd).display;\n",
              "        if (!display || display === 'none') {{\n",
              "            console.log([gd, 'removed!']);\n",
              "            Plotly.purge(gd);\n",
              "            observer.disconnect();\n",
              "        }}\n",
              "}});\n",
              "\n",
              "// Listen for the removal of the full notebook cells\n",
              "var notebookContainer = gd.closest('#notebook-container');\n",
              "if (notebookContainer) {{\n",
              "    x.observe(notebookContainer, {childList: true});\n",
              "}}\n",
              "\n",
              "// Listen for the clearing of the current output cell\n",
              "var outputEl = gd.closest('.output');\n",
              "if (outputEl) {{\n",
              "    x.observe(outputEl, {childList: true});\n",
              "}}\n",
              "\n",
              "                        })                };                            </script>        </div>\n",
              "</body>\n",
              "</html>"
            ]
          },
          "metadata": {}
        }
      ]
    },
    {
      "cell_type": "code",
      "source": [
        "# Model selection\n",
        "model = LinearRegression()\n",
        "model.fit(X_train, y_train)"
      ],
      "metadata": {
        "colab": {
          "base_uri": "https://localhost:8080/",
          "height": 75
        },
        "id": "Oht9Qm7QdK2q",
        "outputId": "2521fd5e-c08b-4cd8-f14c-102297b56674"
      },
      "execution_count": 50,
      "outputs": [
        {
          "output_type": "execute_result",
          "data": {
            "text/plain": [
              "LinearRegression()"
            ],
            "text/html": [
              "<style>#sk-container-id-2 {color: black;background-color: white;}#sk-container-id-2 pre{padding: 0;}#sk-container-id-2 div.sk-toggleable {background-color: white;}#sk-container-id-2 label.sk-toggleable__label {cursor: pointer;display: block;width: 100%;margin-bottom: 0;padding: 0.3em;box-sizing: border-box;text-align: center;}#sk-container-id-2 label.sk-toggleable__label-arrow:before {content: \"▸\";float: left;margin-right: 0.25em;color: #696969;}#sk-container-id-2 label.sk-toggleable__label-arrow:hover:before {color: black;}#sk-container-id-2 div.sk-estimator:hover label.sk-toggleable__label-arrow:before {color: black;}#sk-container-id-2 div.sk-toggleable__content {max-height: 0;max-width: 0;overflow: hidden;text-align: left;background-color: #f0f8ff;}#sk-container-id-2 div.sk-toggleable__content pre {margin: 0.2em;color: black;border-radius: 0.25em;background-color: #f0f8ff;}#sk-container-id-2 input.sk-toggleable__control:checked~div.sk-toggleable__content {max-height: 200px;max-width: 100%;overflow: auto;}#sk-container-id-2 input.sk-toggleable__control:checked~label.sk-toggleable__label-arrow:before {content: \"▾\";}#sk-container-id-2 div.sk-estimator input.sk-toggleable__control:checked~label.sk-toggleable__label {background-color: #d4ebff;}#sk-container-id-2 div.sk-label input.sk-toggleable__control:checked~label.sk-toggleable__label {background-color: #d4ebff;}#sk-container-id-2 input.sk-hidden--visually {border: 0;clip: rect(1px 1px 1px 1px);clip: rect(1px, 1px, 1px, 1px);height: 1px;margin: -1px;overflow: hidden;padding: 0;position: absolute;width: 1px;}#sk-container-id-2 div.sk-estimator {font-family: monospace;background-color: #f0f8ff;border: 1px dotted black;border-radius: 0.25em;box-sizing: border-box;margin-bottom: 0.5em;}#sk-container-id-2 div.sk-estimator:hover {background-color: #d4ebff;}#sk-container-id-2 div.sk-parallel-item::after {content: \"\";width: 100%;border-bottom: 1px solid gray;flex-grow: 1;}#sk-container-id-2 div.sk-label:hover label.sk-toggleable__label {background-color: #d4ebff;}#sk-container-id-2 div.sk-serial::before {content: \"\";position: absolute;border-left: 1px solid gray;box-sizing: border-box;top: 0;bottom: 0;left: 50%;z-index: 0;}#sk-container-id-2 div.sk-serial {display: flex;flex-direction: column;align-items: center;background-color: white;padding-right: 0.2em;padding-left: 0.2em;position: relative;}#sk-container-id-2 div.sk-item {position: relative;z-index: 1;}#sk-container-id-2 div.sk-parallel {display: flex;align-items: stretch;justify-content: center;background-color: white;position: relative;}#sk-container-id-2 div.sk-item::before, #sk-container-id-2 div.sk-parallel-item::before {content: \"\";position: absolute;border-left: 1px solid gray;box-sizing: border-box;top: 0;bottom: 0;left: 50%;z-index: -1;}#sk-container-id-2 div.sk-parallel-item {display: flex;flex-direction: column;z-index: 1;position: relative;background-color: white;}#sk-container-id-2 div.sk-parallel-item:first-child::after {align-self: flex-end;width: 50%;}#sk-container-id-2 div.sk-parallel-item:last-child::after {align-self: flex-start;width: 50%;}#sk-container-id-2 div.sk-parallel-item:only-child::after {width: 0;}#sk-container-id-2 div.sk-dashed-wrapped {border: 1px dashed gray;margin: 0 0.4em 0.5em 0.4em;box-sizing: border-box;padding-bottom: 0.4em;background-color: white;}#sk-container-id-2 div.sk-label label {font-family: monospace;font-weight: bold;display: inline-block;line-height: 1.2em;}#sk-container-id-2 div.sk-label-container {text-align: center;}#sk-container-id-2 div.sk-container {/* jupyter's `normalize.less` sets `[hidden] { display: none; }` but bootstrap.min.css set `[hidden] { display: none !important; }` so we also need the `!important` here to be able to override the default hidden behavior on the sphinx rendered scikit-learn.org. See: https://github.com/scikit-learn/scikit-learn/issues/21755 */display: inline-block !important;position: relative;}#sk-container-id-2 div.sk-text-repr-fallback {display: none;}</style><div id=\"sk-container-id-2\" class=\"sk-top-container\"><div class=\"sk-text-repr-fallback\"><pre>LinearRegression()</pre><b>In a Jupyter environment, please rerun this cell to show the HTML representation or trust the notebook. <br />On GitHub, the HTML representation is unable to render, please try loading this page with nbviewer.org.</b></div><div class=\"sk-container\" hidden><div class=\"sk-item\"><div class=\"sk-estimator sk-toggleable\"><input class=\"sk-toggleable__control sk-hidden--visually\" id=\"sk-estimator-id-2\" type=\"checkbox\" checked><label for=\"sk-estimator-id-2\" class=\"sk-toggleable__label sk-toggleable__label-arrow\">LinearRegression</label><div class=\"sk-toggleable__content\"><pre>LinearRegression()</pre></div></div></div></div></div>"
            ]
          },
          "metadata": {},
          "execution_count": 50
        }
      ]
    },
    {
      "cell_type": "code",
      "source": [
        "# Evaluation Mean Square Error\n",
        "y_pred = model.predict(X_test)\n",
        "\n",
        "mse = mean_squared_error(y_test, y_pred)\n",
        "mse"
      ],
      "metadata": {
        "colab": {
          "base_uri": "https://localhost:8080/"
        },
        "id": "ZbejjUkGdlVr",
        "outputId": "3c79d1f9-572a-46c5-9f60-685ca4d2ef0d"
      },
      "execution_count": 55,
      "outputs": [
        {
          "output_type": "execute_result",
          "data": {
            "text/plain": [
              "9.43292219203931"
            ]
          },
          "metadata": {},
          "execution_count": 55
        }
      ]
    },
    {
      "cell_type": "code",
      "source": [
        "# Evaluation Mean Absoulte Error\n",
        "mae = mean_absolute_error(y_test, y_pred)\n",
        "mae"
      ],
      "metadata": {
        "colab": {
          "base_uri": "https://localhost:8080/"
        },
        "id": "wbG5OmU8fZYh",
        "outputId": "4ab909ad-5346-41ed-f1a5-5e6092737792"
      },
      "execution_count": 59,
      "outputs": [
        {
          "output_type": "execute_result",
          "data": {
            "text/plain": [
              "2.415771850041258"
            ]
          },
          "metadata": {},
          "execution_count": 59
        }
      ]
    },
    {
      "cell_type": "code",
      "source": [
        "# root square error\n",
        "r2 = r2_score(y_test, y_pred)\n",
        "r2"
      ],
      "metadata": {
        "colab": {
          "base_uri": "https://localhost:8080/"
        },
        "id": "d6P6jrN4iRYJ",
        "outputId": "63b5fce9-61a1-4c62-9aa7-a686913440b1"
      },
      "execution_count": 60,
      "outputs": [
        {
          "output_type": "execute_result",
          "data": {
            "text/plain": [
              "0.9888014444327563"
            ]
          },
          "metadata": {},
          "execution_count": 60
        }
      ]
    },
    {
      "cell_type": "code",
      "source": [],
      "metadata": {
        "id": "M2Un79xgidqE"
      },
      "execution_count": null,
      "outputs": []
    }
  ]
}